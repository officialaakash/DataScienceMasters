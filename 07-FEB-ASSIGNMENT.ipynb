{
 "cells": [
  {
   "cell_type": "markdown",
   "id": "fcd0c50f",
   "metadata": {},
   "source": [
    "# Q1. You are writing code for a company. The requirement of the company is that you create a python function that will check whether the password entered by the user is correct or not. The function should take the password as input and return the string “Valid Password” if the entered password follows the below-given password guidelines else it should return “Invalid Password”.\n",
    "Note: 1. The Password should contain at least two uppercase letters and at least two lowercase letters.\n",
    "2. The Password should contain at least a number and three special characters.\n",
    "3. The length of the password should be 10 characters long."
   ]
  },
  {
   "cell_type": "code",
   "execution_count": 1,
   "id": "c4000a68",
   "metadata": {},
   "outputs": [],
   "source": [
    "import string\n",
    "def password(pswrd):\n",
    "    \n",
    "    pas = \"Invalid Password\"\n",
    "    n = len(pswrd)\n",
    "    numeric_count=0\n",
    "    upper_count = 0\n",
    "    lower_count = 0\n",
    "    special_char_count = 0\n",
    "    special_char = set(string.punctuation)\n",
    "    for char in pswrd:\n",
    "        if char.isupper():\n",
    "            upper_count+=1\n",
    "        elif char.islower():\n",
    "            lower_count +=1\n",
    "        elif char in special_char:\n",
    "            special_char_count+=1\n",
    "        elif char.isnumeric():\n",
    "            numeric_count+=1\n",
    "        \n",
    "    if upper_count>=2 and lower_count>=2 and numeric_count>=1 and special_char_count==3 and n ==10:\n",
    "        pas = \"Valid Password\"\n",
    "    return pas\n",
    "        \n",
    "    "
   ]
  },
  {
   "cell_type": "code",
   "execution_count": 4,
   "id": "7b0abed8",
   "metadata": {},
   "outputs": [
    {
     "name": "stdout",
     "output_type": "stream",
     "text": [
      "ENTER THE PASSWORD: AAka1&$&33\n"
     ]
    },
    {
     "data": {
      "text/plain": [
       "'Valid Password'"
      ]
     },
     "execution_count": 4,
     "metadata": {},
     "output_type": "execute_result"
    }
   ],
   "source": [
    "pswrd = input(\"ENTER THE PASSWORD\")\n",
    "password(pswrd)"
   ]
  },
  {
   "cell_type": "code",
   "execution_count": 6,
   "id": "0226738c",
   "metadata": {},
   "outputs": [
    {
     "name": "stdout",
     "output_type": "stream",
     "text": [
      "ENTER THE PASSWORD : 2rfsdg\n"
     ]
    },
    {
     "data": {
      "text/plain": [
       "'Invalid Password'"
      ]
     },
     "execution_count": 6,
     "metadata": {},
     "output_type": "execute_result"
    }
   ],
   "source": [
    "pswrd = input(\"ENTER THE PASSWORD : \")\n",
    "password(pswrd)"
   ]
  },
  {
   "cell_type": "markdown",
   "id": "2409a600",
   "metadata": {},
   "source": [
    "# Q2. Solve the below-given questions using at least one of the following:\n",
    "1. Lambda function\n",
    "2. Filter function\n",
    "3. Map function\n",
    "4. List Comprehension\n"
   ]
  },
  {
   "cell_type": "raw",
   "id": "41799d65",
   "metadata": {},
   "source": [
    "\n",
    ". Check if the string starts with a particular letter\n",
    ". Check if the string is numericY\n",
    ". Sort a list of tuples having fruit names and their quantity. [(\"mango\",99),(\"orange\",80), (\"grapes\", 1000)]\n",
    ". Find the squares of numbers from 1 to 10\n",
    ". Find the cube root of numbers from 1 to 10\n",
    ". Check if a given number is even\n",
    ". Filter odd numbers from the given list. [1,2,3,4,5,6,7,8,9,10]\n",
    ". Sort a list of integers into positive and negative integers lists. [1,2,3,4,5,6,-1,-2,-3,-4,-5,0] \n",
    "\n"
   ]
  },
  {
   "cell_type": "markdown",
   "id": "6b94c3fa",
   "metadata": {},
   "source": [
    "# Check if the string starts with a particular letter"
   ]
  },
  {
   "cell_type": "code",
   "execution_count": 2,
   "id": "0d548988",
   "metadata": {},
   "outputs": [
    {
     "name": "stdout",
     "output_type": "stream",
     "text": [
      "Enter string: Aakash\n",
      "Enter letter: A\n",
      "'Aakash' starts with 'A'!\n"
     ]
    }
   ],
   "source": [
    "#Solution uses LAMBDA function\n",
    "\n",
    "check_start = lambda string, letter: string.startswith(letter)\n",
    "\n",
    "#Driver Code\n",
    "string = input(\"Enter string: \")\n",
    "letter = input(\"Enter letter: \")\n",
    "if check_start(string, letter):\n",
    "    print(f\"'{string}' starts with '{letter}'!\")\n",
    "else:\n",
    "    print(f\"'{string}' does not starts with '{letter}'!\")"
   ]
  },
  {
   "cell_type": "markdown",
   "id": "b2f73b05",
   "metadata": {},
   "source": [
    "# Check if the string is numeric"
   ]
  },
  {
   "cell_type": "code",
   "execution_count": 4,
   "id": "e461c5c7",
   "metadata": {},
   "outputs": [
    {
     "name": "stdout",
     "output_type": "stream",
     "text": [
      "Enter string: 3252\n",
      "3252 is numeric!\n"
     ]
    }
   ],
   "source": [
    "#Solution uses LAMBDA function \n",
    "\n",
    "is_numeric = lambda string : string.isnumeric()\n",
    "\n",
    "#Driver Code\n",
    "string = input(\"Enter string: \")\n",
    "if is_numeric(string):\n",
    "    print(f\"{string} is numeric!\")\n",
    "else:\n",
    "    print(f\"{string} is not numeric!\")"
   ]
  },
  {
   "cell_type": "markdown",
   "id": "900e282e",
   "metadata": {},
   "source": [
    "# Sort a list of tuples having fruit names and their quantity. [(\"mango\",99),(\"orange\",80), (\"grapes\", 1000)]"
   ]
  },
  {
   "cell_type": "code",
   "execution_count": 7,
   "id": "f40c91f0",
   "metadata": {},
   "outputs": [
    {
     "name": "stdout",
     "output_type": "stream",
     "text": [
      "Fruits increasingly sorted according to quantity: [('orange', 80), ('mango', 99), ('grapes', 1000)]\n"
     ]
    }
   ],
   "source": [
    "# Solution uses LAMBDA function \n",
    "\n",
    "fruits = [(\"mango\",99),(\"orange\",80), (\"grapes\", 1000)]\n",
    "fruits.sort(key = lambda a : a[1])\n",
    "print(f\"Fruits increasingly sorted according to quantity: {fruits}\")\n"
   ]
  },
  {
   "cell_type": "markdown",
   "id": "037a39cc",
   "metadata": {},
   "source": [
    "# Find the squares of numbers from 1 to 10"
   ]
  },
  {
   "cell_type": "code",
   "execution_count": 8,
   "id": "c597d43d",
   "metadata": {},
   "outputs": [
    {
     "data": {
      "text/plain": [
       "[1, 4, 9, 16, 25, 36, 49, 64, 81, 100]"
      ]
     },
     "execution_count": 8,
     "metadata": {},
     "output_type": "execute_result"
    }
   ],
   "source": [
    "#using list comphrension\n",
    "\n",
    "n = [i**2 for i in range(1,11)]\n",
    "n"
   ]
  },
  {
   "cell_type": "markdown",
   "id": "753dfbf9",
   "metadata": {},
   "source": [
    "# Find the cube root of numbers from 1 to 10"
   ]
  },
  {
   "cell_type": "code",
   "execution_count": 13,
   "id": "bd50c70e",
   "metadata": {},
   "outputs": [
    {
     "data": {
      "text/plain": [
       "[1, 8, 27, 64, 125, 216, 343, 512, 729, 1000]"
      ]
     },
     "execution_count": 13,
     "metadata": {},
     "output_type": "execute_result"
    }
   ],
   "source": [
    "#using map and lambda function\n",
    "l = [i for i in range(1,11)]\n",
    "c = list(map(lambda x:x**3,l))\n",
    "c"
   ]
  },
  {
   "cell_type": "markdown",
   "id": "f8d0152d",
   "metadata": {},
   "source": [
    "# Check if a given number is even"
   ]
  },
  {
   "cell_type": "code",
   "execution_count": 16,
   "id": "c76ad8a2",
   "metadata": {},
   "outputs": [
    {
     "name": "stdout",
     "output_type": "stream",
     "text": [
      "enter the no : 9\n",
      "Not Even\n"
     ]
    }
   ],
   "source": [
    "#using lambda function\n",
    "check = lambda x : x%2==0\n",
    "def even(n):\n",
    "    if check(n):\n",
    "        print(\"Even\")\n",
    "    else:\n",
    "        print(\"Not Even\")\n",
    "    \n",
    "n = int(input(\"enter the no : \"))\n",
    "even(n)\n",
    "\n"
   ]
  },
  {
   "cell_type": "markdown",
   "id": "65aa4a6c",
   "metadata": {},
   "source": [
    "# Filter odd numbers from the given list. [1,2,3,4,5,6,7,8,9,10]"
   ]
  },
  {
   "cell_type": "code",
   "execution_count": 18,
   "id": "cb23ac70",
   "metadata": {},
   "outputs": [
    {
     "data": {
      "text/plain": [
       "[1, 3, 5, 7, 9]"
      ]
     },
     "execution_count": 18,
     "metadata": {},
     "output_type": "execute_result"
    }
   ],
   "source": [
    "l = [1,2,3,4,5,6,7,8,9,10]\n",
    "f = list(filter(lambda x : x%2!=0,l))\n",
    "f"
   ]
  },
  {
   "cell_type": "markdown",
   "id": "cadacf20",
   "metadata": {},
   "source": [
    "# Sort a list of integers into positive and negative integers lists. [1,2,3,4,5,6,-1,-2,-3,-4,-5,0] "
   ]
  },
  {
   "cell_type": "code",
   "execution_count": 19,
   "id": "cf3ccd0d",
   "metadata": {},
   "outputs": [
    {
     "name": "stdout",
     "output_type": "stream",
     "text": [
      "Positive list: [1, 2, 3, 4, 5, 6]\n",
      "Negative list: [-1, -2, -3, -4, -5]\n"
     ]
    }
   ],
   "source": [
    "#Solution uses LIST COMPREHENSION\n",
    "\n",
    "def sort_list(lst):\n",
    "    \"\"\" Created postive and negative list from given list\"\"\"\n",
    "    \n",
    "    p_list = [num for num in lst if num > 0]\n",
    "    n_list = [num for num in lst if num < 0]\n",
    "    \n",
    "    return p_list, n_list\n",
    "\n",
    "# Driver code\n",
    "lst = [1,2,3,4,5,6,-1,-2,-3,-4,-5,0]\n",
    "p_list, n_list = sort_list(lst)\n",
    "print(f\"Positive list: {p_list}\")\n",
    "print(f\"Negative list: {n_list}\")"
   ]
  },
  {
   "cell_type": "code",
   "execution_count": null,
   "id": "4a81e34c",
   "metadata": {},
   "outputs": [],
   "source": []
  }
 ],
 "metadata": {
  "kernelspec": {
   "display_name": "Python 3 (ipykernel)",
   "language": "python",
   "name": "python3"
  },
  "language_info": {
   "codemirror_mode": {
    "name": "ipython",
    "version": 3
   },
   "file_extension": ".py",
   "mimetype": "text/x-python",
   "name": "python",
   "nbconvert_exporter": "python",
   "pygments_lexer": "ipython3",
   "version": "3.9.12"
  }
 },
 "nbformat": 4,
 "nbformat_minor": 5
}
