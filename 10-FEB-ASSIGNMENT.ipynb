{
 "cells": [
  {
   "cell_type": "markdown",
   "id": "6ccfd2ff",
   "metadata": {},
   "source": [
    "# Q1. Which function is used to open a file? What are the different modes of opening a file? Explain each mode of file opening."
   ]
  },
  {
   "cell_type": "markdown",
   "id": "cb4983c2",
   "metadata": {},
   "source": [
    "Before performing any operation (like read or write) on the file,first we have to open that file.For this we should use Python's inbuilt function open() But at the time of open, we have to specify mode,which represents the purpose of opening file.\n",
    "\n",
    "Sytax1 : f = open(filename, mode)\n",
    "\n",
    "Syntax2:\n",
    "with open(filename,moded) as f:\n",
    "\n",
    "The allowed modes in Python are\n",
    "\n",
    "r : open an existing file for read operation. The file pointer is positioned at the\n",
    "beginning of the file.If the specified file does not exist then we will get FileNotFoundError.This is default mode\n",
    "\n",
    "w : open an existing file for write operation. If the file already contains some data\n",
    "then it will be overridden. If the specified file is not already avaialble then this mode will create that file.\n",
    "\n",
    "a : open an existing file for append operation. It won't override existing data.If the\n",
    "specified file is not already avaialble then this mode will create a new file.\n",
    "\n",
    "r+ : To read and write data into the file. The previous data in the file will not be\n",
    "deleted.The file pointer is placed at the beginning of the file.\n",
    "\n",
    "w+ : To write and read data. It will override existing data.\n",
    "\n",
    "a+ : To append and read data from the file.It wont override existing data.\n",
    "\n",
    "x : To open a file in exclusive creation mode for write operation. If the file already\n",
    "\n",
    "exists then we will get FileExistsError.\n",
    "\n",
    "Note: All the above modes are applicable for text files. If the above modes suffixed with 'b' then these represents for binary files. Eg: rb,wb,ab,r+b,w+b,a+b,xb"
   ]
  },
  {
   "cell_type": "code",
   "execution_count": 1,
   "id": "280a4d4a",
   "metadata": {},
   "outputs": [
    {
     "ename": "FileNotFoundError",
     "evalue": "[Errno 2] No such file or directory: 'file.txt'",
     "output_type": "error",
     "traceback": [
      "\u001b[1;31m---------------------------------------------------------------------------\u001b[0m",
      "\u001b[1;31mFileNotFoundError\u001b[0m                         Traceback (most recent call last)",
      "Input \u001b[1;32mIn [1]\u001b[0m, in \u001b[0;36m<cell line: 3>\u001b[1;34m()\u001b[0m\n\u001b[0;32m      1\u001b[0m \u001b[38;5;66;03m# Examples\u001b[39;00m\n\u001b[0;32m      2\u001b[0m \u001b[38;5;66;03m# Open file in read mode\u001b[39;00m\n\u001b[1;32m----> 3\u001b[0m \u001b[38;5;28;01mwith\u001b[39;00m \u001b[38;5;28;43mopen\u001b[39;49m\u001b[43m(\u001b[49m\u001b[38;5;124;43m'\u001b[39;49m\u001b[38;5;124;43mfile.txt\u001b[39;49m\u001b[38;5;124;43m'\u001b[39;49m\u001b[43m,\u001b[49m\u001b[43m \u001b[49m\u001b[38;5;124;43m'\u001b[39;49m\u001b[38;5;124;43mr\u001b[39;49m\u001b[38;5;124;43m'\u001b[39;49m\u001b[43m)\u001b[49m \u001b[38;5;28;01mas\u001b[39;00m file:\n\u001b[0;32m      4\u001b[0m     data \u001b[38;5;241m=\u001b[39m file\u001b[38;5;241m.\u001b[39mread()\n\u001b[0;32m      6\u001b[0m \u001b[38;5;66;03m# Open file in write mode\u001b[39;00m\n",
      "\u001b[1;31mFileNotFoundError\u001b[0m: [Errno 2] No such file or directory: 'file.txt'"
     ]
    }
   ],
   "source": [
    "# Examples\n",
    "# Open file in read mode\n",
    "with open('file.txt', 'r') as file:\n",
    "    data = file.read()\n",
    "\n",
    "# Open file in write mode\n",
    "with open('file.txt', 'w') as file:\n",
    "    file.write('Hello World')\n",
    "\n",
    "# Open file in append mode\n",
    "with open('file.txt', 'a') as file:\n",
    "    file.write('Hello World')\n",
    "\n",
    "# Open binary file in binary read mode\n",
    "with open('file.bin', 'rb') as file:\n",
    "    data = file.read()\n",
    "\n",
    "# Open binary file in binary write mode\n",
    "with open('file.bin', 'wb') as file:\n",
    "    file.write(b'Hello World')\n",
    "\n",
    "# Open binary file in binary append mode\n",
    "with open('file.bin', 'ab') as file:\n",
    "    file.write(b'Hello World')"
   ]
  },
  {
   "cell_type": "markdown",
   "id": "7d20e549",
   "metadata": {},
   "source": []
  },
  {
   "cell_type": "markdown",
   "id": "16c98ffb",
   "metadata": {},
   "source": [
    "# Q2. Why close() function is used? Why is it important to close a file?"
   ]
  },
  {
   "cell_type": "markdown",
   "id": "841b2038",
   "metadata": {},
   "source": [
    "The close() function is used to close an open file in Python.\n",
    "\n",
    "It's important to close a file in Python for several reasons:\n",
    "\n",
    "1)Releasing resources: When you open a file, your system reserves resources, such as memory, for that file. Closing the file frees up those resources for other tasks.\n",
    "\n",
    "2)Preventing data corruption: When you write to a file, the data is not immediately written to the file system. It's stored in a buffer, which is flushed to the file system when the file is closed. If you don't close a file properly, the data in the buffer may not be written to the file, leading to data corruption.\n",
    "\n",
    "3)Avoiding file lock issues: When you open a file, it's locked for use by the current process. If you don't close the file, other processes may not be able to access it, leading to file lock issues.\n",
    "\n",
    "4)Proper file management: Properly closing files helps ensure that the file system remains in a consistent state. If you don't close a file, the file may remain open, even after the Python process has exited, which can lead to unexpected behavior in other programs that try to access the file.\n",
    "\n",
    "Here's an example of how to properly close a file in Python:"
   ]
  },
  {
   "cell_type": "markdown",
   "id": "7a775f2c",
   "metadata": {},
   "source": [
    "Open a file for reading\n",
    "file = open(\"file.txt\", \"r\")\n",
    "\n",
    "Read the contents of the file\n",
    "data = file.read()\n",
    "\n",
    " Do something with the data\n",
    " ...\n",
    "\n",
    " Close the file\n",
    "file.close()"
   ]
  },
  {
   "cell_type": "markdown",
   "id": "7064714a",
   "metadata": {},
   "source": [
    "In this example, the file is opened for reading, the contents are read, and the file is then properly closed.\n",
    "\n",
    "\n",
    "\n"
   ]
  },
  {
   "cell_type": "markdown",
   "id": "6b7b3b4e",
   "metadata": {},
   "source": [
    "# Q3. Write a python program to create a text file. Write ‘I want to become a Data Scientist’ in that file. Then close the file. Open this file and read the content of the file."
   ]
  },
  {
   "cell_type": "code",
   "execution_count": 14,
   "id": "9c24551f",
   "metadata": {},
   "outputs": [],
   "source": [
    "f = open(\"test.txt\",\"w\")\n"
   ]
  },
  {
   "cell_type": "code",
   "execution_count": 15,
   "id": "235eaf55",
   "metadata": {},
   "outputs": [],
   "source": [
    "f.write(\"I want to become a Data scientist\")   #writing in file\n",
    "f.close()"
   ]
  },
  {
   "cell_type": "code",
   "execution_count": 17,
   "id": "c99f2dd8",
   "metadata": {},
   "outputs": [],
   "source": [
    "f1 = open(\"test.txt\",\"r\")  # reading\n",
    "f1.read()\n",
    "f1.close()"
   ]
  },
  {
   "cell_type": "markdown",
   "id": "5f43d2e7",
   "metadata": {},
   "source": [
    "# Q4. Explain the following with python code: read(), readline() and readlines()."
   ]
  },
  {
   "cell_type": "markdown",
   "id": "cf56a5e2",
   "metadata": {},
   "source": [
    "The read(), readline(), and readlines() functions are used to read the contents of a file in Python. Here's a brief explanation of each function:\n",
    "\n",
    "1.read() - The read() function reads the entire contents of the file as a single string. Here's an example:"
   ]
  },
  {
   "cell_type": "code",
   "execution_count": 19,
   "id": "0ff778ef",
   "metadata": {},
   "outputs": [
    {
     "name": "stdout",
     "output_type": "stream",
     "text": [
      "I want to become a Data scientist\n"
     ]
    }
   ],
   "source": [
    "# Open a file for reading\n",
    "with open(\"test.txt\", \"r\") as file:\n",
    "    content = file.read()\n",
    "    print(content)"
   ]
  },
  {
   "cell_type": "markdown",
   "id": "32f5c8cd",
   "metadata": {},
   "source": [
    "2.readline() - The readline() function reads a single line from the file. Here's an example:"
   ]
  },
  {
   "cell_type": "code",
   "execution_count": 20,
   "id": "0bbdad1b",
   "metadata": {},
   "outputs": [
    {
     "name": "stdout",
     "output_type": "stream",
     "text": [
      "I want to become a Data scientist\n"
     ]
    }
   ],
   "source": [
    "# Open a file for reading\n",
    "with open(\"test.txt\", \"r\") as file:\n",
    "    line = file.readline()\n",
    "    while line:\n",
    "        print(line)\n",
    "        line = file.readline()"
   ]
  },
  {
   "cell_type": "markdown",
   "id": "3b509ad2",
   "metadata": {},
   "source": [
    "3.readlines() - The readlines() function reads the entire contents of the file as a list of strings, where each element of the list corresponds to a single line in the file. Here's an example:"
   ]
  },
  {
   "cell_type": "code",
   "execution_count": 21,
   "id": "5351a327",
   "metadata": {},
   "outputs": [
    {
     "name": "stdout",
     "output_type": "stream",
     "text": [
      "I want to become a Data scientist\n"
     ]
    }
   ],
   "source": [
    "\n",
    "# Open a file for reading\n",
    "with open(\"test.txt\", \"r\") as file:\n",
    "    lines = file.readlines()\n",
    "    for line in lines:\n",
    "        print(line)"
   ]
  },
  {
   "cell_type": "markdown",
   "id": "f76608f0",
   "metadata": {},
   "source": [
    "# Q5. Explain why with statement is used with open(). What is the advantage of using with statement and open() together?"
   ]
  },
  {
   "cell_type": "markdown",
   "id": "49698a19",
   "metadata": {},
   "source": [
    "The with statement is used with open() to ensure that the file is properly closed after processing is completed, even if an exception is raised during processing. The with statement provides a convenient way to manage the lifetime of an object, such as a file, and automatically takes care of closing the file when the with block is exited.\n",
    "\n",
    "Here's an example of using the with statement with open():"
   ]
  },
  {
   "cell_type": "code",
   "execution_count": 23,
   "id": "d8729e00",
   "metadata": {},
   "outputs": [
    {
     "name": "stdout",
     "output_type": "stream",
     "text": [
      "I want to become a Data scientist\n"
     ]
    }
   ],
   "source": [
    "with open(\"test.txt\", \"r\") as file:\n",
    "    content = file.read()\n",
    "    print(content)"
   ]
  },
  {
   "cell_type": "markdown",
   "id": "cfdb6c63",
   "metadata": {},
   "source": [
    "In this example, the file text_file.txt is opened using the open() function, and the with statement is used to manage the file's lifetime. The file is automatically closed when the with block is exited, even if an exception is raised during processing.\n",
    "\n",
    "The advantage of using the with statement with open() is that it provides a way to handle file I/O in a clean and consistent manner. It eliminates the need to manually close the file using the file.close() method, which can be prone to errors, especially if there are multiple files being processed or if an exception is raised during processing.\n",
    "\n",
    "By using the with statement, you can ensure that the file is properly closed, even if an exception is raised, which helps to prevent resource leaks and makes your code more robust and reliable."
   ]
  },
  {
   "cell_type": "markdown",
   "id": "f42fa8ec",
   "metadata": {},
   "source": [
    "# Q6. Explain the write() and writelines() functions. Give a suitable example."
   ]
  },
  {
   "cell_type": "markdown",
   "id": "916516bc",
   "metadata": {},
   "source": [
    "The write() and writelines() functions are used to write data to a file in Python.\n",
    "\n",
    "write() - The write() function writes a string to a file. Here's an example:"
   ]
  },
  {
   "cell_type": "code",
   "execution_count": 24,
   "id": "63a7d1f4",
   "metadata": {},
   "outputs": [
    {
     "name": "stdout",
     "output_type": "stream",
     "text": [
      "I want to become a Data Scientist\n"
     ]
    }
   ],
   "source": [
    "\n",
    "# Open a file for writing\n",
    "with open(\"text_file1.txt\", \"w\") as file:\n",
    "    file.write(\"I want to become a Data Scientist\")\n",
    "    \n",
    "with open(\"text_file1.txt\",\"r\") as file:\n",
    "    content = file.read()\n",
    "    print(content)"
   ]
  },
  {
   "cell_type": "markdown",
   "id": "b24b230e",
   "metadata": {},
   "source": [
    "In this example, the file text_file.txt is opened using the open() function in write mode (\"w\"), and the write() function is used to write a string to the file.\n",
    "\n",
    "2.writelines() - The writelines() function writes a list of strings to a file. Here's an example:"
   ]
  },
  {
   "cell_type": "code",
   "execution_count": 25,
   "id": "54646bb0",
   "metadata": {},
   "outputs": [
    {
     "name": "stdout",
     "output_type": "stream",
     "text": [
      "I want to become a Data ScientistData Science is my passion\n"
     ]
    }
   ],
   "source": [
    "# Open a file for writing\n",
    "with open(\"text_file2.txt\", \"w\") as file:\n",
    "    lines = [\"I want to become a Data Scientist\", \"Data Science is my passion\"]\n",
    "    file.writelines(lines)\n",
    "\n",
    "with open(\"text_file2.txt\",\"r\") as file:\n",
    "    content = file.read()\n",
    "    print(content)"
   ]
  },
  {
   "cell_type": "markdown",
   "id": "482091b2",
   "metadata": {},
   "source": [
    " In this example, the file text_file.txt is opened using the open() function in write mode (\"w\"), and the writelines() function is used to write a list of strings to the file. The writelines() function writes each element of the list as a separate line in the file.\n",
    "\n",
    "Note that when using writelines(), there is no automatic newline character added to the end of each line, so you may need to add the newline character explicitly when constructing the list of strings."
   ]
  },
  {
   "cell_type": "code",
   "execution_count": null,
   "id": "2cf4fc33",
   "metadata": {},
   "outputs": [],
   "source": []
  }
 ],
 "metadata": {
  "kernelspec": {
   "display_name": "Python 3 (ipykernel)",
   "language": "python",
   "name": "python3"
  },
  "language_info": {
   "codemirror_mode": {
    "name": "ipython",
    "version": 3
   },
   "file_extension": ".py",
   "mimetype": "text/x-python",
   "name": "python",
   "nbconvert_exporter": "python",
   "pygments_lexer": "ipython3",
   "version": "3.9.12"
  }
 },
 "nbformat": 4,
 "nbformat_minor": 5
}
