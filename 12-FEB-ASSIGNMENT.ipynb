{
 "cells": [
  {
   "cell_type": "markdown",
   "id": "e3a42b8b",
   "metadata": {},
   "source": [
    "# Q1. What is  Exception in python? Write the difference between Exceptions and syntax errors ."
   ]
  },
  {
   "cell_type": "markdown",
   "id": "e0ad0fb7",
   "metadata": {},
   "source": [
    "Errors are the problems in a program due to which the program will stop the execution. On the other hand, exceptions are raised when some internal events occur which changes the normal flow of the program.\n",
    "Two types of Error occurs in python.\n",
    "\n",
    "1.Syntax errors\n",
    "\n",
    "\n",
    "2.Logical errors (Exceptions)"
   ]
  },
  {
   "cell_type": "markdown",
   "id": "9eb6fbce",
   "metadata": {},
   "source": [
    "When in the runtime an error occurs after passing the syntax test is called exception or logical type. For example, when we divide any number by zero then the ZeroDivisionError exception is raised, or when we import a module that does not exist then ImportError is raised."
   ]
  },
  {
   "cell_type": "markdown",
   "id": "e65ff8a2",
   "metadata": {},
   "source": [
    "where as When the proper syntax of the language is not followed then a syntax error is thrown."
   ]
  },
  {
   "cell_type": "markdown",
   "id": "da584263",
   "metadata": {},
   "source": [
    "# Q2. What happen when exception is not handled? Explain with an example"
   ]
  },
  {
   "cell_type": "markdown",
   "id": "2d6c3909",
   "metadata": {},
   "source": [
    "If an exception is not handled in a Python program, the program will terminate abruptly and an error message will be displayed. The error message indicates what type of exception was raised and where it occurred in the code.\n",
    "\n",
    "For example, consider the following code:\n"
   ]
  },
  {
   "cell_type": "code",
   "execution_count": 1,
   "id": "94ea9e09",
   "metadata": {},
   "outputs": [
    {
     "ename": "ZeroDivisionError",
     "evalue": "division by zero",
     "output_type": "error",
     "traceback": [
      "\u001b[1;31m---------------------------------------------------------------------------\u001b[0m",
      "\u001b[1;31mZeroDivisionError\u001b[0m                         Traceback (most recent call last)",
      "Input \u001b[1;32mIn [1]\u001b[0m, in \u001b[0;36m<cell line: 7>\u001b[1;34m()\u001b[0m\n\u001b[0;32m      4\u001b[0m x \u001b[38;5;241m=\u001b[39m \u001b[38;5;241m10\u001b[39m\n\u001b[0;32m      5\u001b[0m y \u001b[38;5;241m=\u001b[39m \u001b[38;5;241m0\u001b[39m\n\u001b[1;32m----> 7\u001b[0m result \u001b[38;5;241m=\u001b[39m \u001b[43mdivide\u001b[49m\u001b[43m(\u001b[49m\u001b[43mx\u001b[49m\u001b[43m,\u001b[49m\u001b[43m \u001b[49m\u001b[43my\u001b[49m\u001b[43m)\u001b[49m\n\u001b[0;32m      8\u001b[0m \u001b[38;5;28mprint\u001b[39m(result)\n",
      "Input \u001b[1;32mIn [1]\u001b[0m, in \u001b[0;36mdivide\u001b[1;34m(x, y)\u001b[0m\n\u001b[0;32m      1\u001b[0m \u001b[38;5;28;01mdef\u001b[39;00m \u001b[38;5;21mdivide\u001b[39m(x, y):\n\u001b[1;32m----> 2\u001b[0m     \u001b[38;5;28;01mreturn\u001b[39;00m \u001b[43mx\u001b[49m\u001b[43m \u001b[49m\u001b[38;5;241;43m/\u001b[39;49m\u001b[43m \u001b[49m\u001b[43my\u001b[49m\n",
      "\u001b[1;31mZeroDivisionError\u001b[0m: division by zero"
     ]
    }
   ],
   "source": [
    "\n",
    "def divide(x, y):\n",
    "    return x / y\n",
    "\n",
    "x = 10\n",
    "y = 0\n",
    "\n",
    "result = divide(x, y)\n",
    "print(result)"
   ]
  },
  {
   "cell_type": "markdown",
   "id": "654496db",
   "metadata": {},
   "source": [
    "In this code, we are trying to divide x by y, which will result in a ZeroDivisionError exception because dividing by zero is not allowed in mathematics. If this exception is not handled, the program will terminate with the above error message\n",
    "\n",
    "This error message provides information about the type of exception (ZeroDivisionError) and the location in the code where the exception was raised (line 2 of the divide function). This information can be useful for debugging the program and fixing the problem.\n",
    "\n",
    "It is generally a good practice to handle exceptions in your code so that the program can continue running even if an error occurs, instead of abruptly terminating. You can handle exceptions using a try-except block, which allows you to catch specific exceptions and perform specific actions in response to those exceptions."
   ]
  },
  {
   "cell_type": "markdown",
   "id": "ec8401c1",
   "metadata": {},
   "source": [
    "# 3) Which Python statements are used to catch and handle exceptions? Explain with an example."
   ]
  },
  {
   "cell_type": "markdown",
   "id": "3d589725",
   "metadata": {},
   "source": [
    "The try and except statements in Python are used to catch and handle exceptions. The try statement is used to define a block of code that you want to monitor for exceptions, and the except statement is used to define the actions to take in response to exceptions that are raised in the try block.\n",
    "\n",
    "Here's an example that demonstrates how the try and except statements can be used to catch and handle exceptions:"
   ]
  },
  {
   "cell_type": "code",
   "execution_count": 2,
   "id": "371246f3",
   "metadata": {},
   "outputs": [
    {
     "name": "stdout",
     "output_type": "stream",
     "text": [
      "Error: Cannot divide by zero.\n"
     ]
    }
   ],
   "source": [
    "try:\n",
    "    # code that might raise an exception\n",
    "    result = 10 / 0\n",
    "except ZeroDivisionError as e:\n",
    "    # code that will be executed if the exception is raised\n",
    "    print(\"Error: Cannot divide by zero.\")\n",
    "else:\n",
    "    # code that will be executed if no exception was raised\n",
    "    print(result)"
   ]
  },
  {
   "cell_type": "markdown",
   "id": "f1574bb7",
   "metadata": {},
   "source": [
    "In this example, the code in the try block attempts to divide 10 by 0, which will result in a ZeroDivisionError exception. The except statement catches this exception and prints an error message. The else statement provides a block of code that will be executed if no exception was raised in the try block. In this case, the else block will not be executed because an exception was raised in the try block.\n",
    "\n",
    "You can also specify multiple except statements to handle different types of exceptions in different ways. For example:"
   ]
  },
  {
   "cell_type": "code",
   "execution_count": 3,
   "id": "b7d51de6",
   "metadata": {},
   "outputs": [
    {
     "name": "stdout",
     "output_type": "stream",
     "text": [
      "Error: Invalid input. Please enter a number.\n"
     ]
    }
   ],
   "source": [
    "try:\n",
    "    # code that might raise an exception\n",
    "    x = int(\"abc\")\n",
    "except ValueError as e:\n",
    "    # code that will be executed if a ValueError is raised\n",
    "    print(\"Error: Invalid input. Please enter a number.\")\n",
    "except ZeroDivisionError as e:\n",
    "    # code that will be executed if a ZeroDivisionError is raised\n",
    "    print(\"Error: Cannot divide by zero.\")\n",
    "else:\n",
    "    # code that will be executed if no exception was raised\n",
    "    print(x)"
   ]
  },
  {
   "cell_type": "markdown",
   "id": "b2629b63",
   "metadata": {},
   "source": [
    "In this example, the code in the try block attempts to convert a string to an integer, which will result in a ValueError exception. The first except statement catches this exception and prints an error message. The second except statement catches a ZeroDivisionError exception, but this exception will not be raised in this example. The else statement provides a block of code that will be executed if no exception was raised in the try block."
   ]
  },
  {
   "cell_type": "markdown",
   "id": "7f6cd33b",
   "metadata": {},
   "source": [
    "# 4) Explain with an example\n",
    "a)try and else\n",
    "b)finally\n",
    "c)raise\n"
   ]
  },
  {
   "cell_type": "code",
   "execution_count": 4,
   "id": "9fca902d",
   "metadata": {},
   "outputs": [],
   "source": [
    "class validateEven(Exception):\n",
    "    def __init__(self,msg):\n",
    "        self.msg = msg"
   ]
  },
  {
   "cell_type": "code",
   "execution_count": 11,
   "id": "e27a6d94",
   "metadata": {},
   "outputs": [],
   "source": [
    "def number(num):\n",
    "    if num%2!=0:\n",
    "        raise validateEven(\"{} is not Even no\".format(num))\n",
    "    else:\n",
    "        print('{} is Even no'.format(num))"
   ]
  },
  {
   "cell_type": "code",
   "execution_count": 12,
   "id": "0a0f7871",
   "metadata": {},
   "outputs": [
    {
     "name": "stdout",
     "output_type": "stream",
     "text": [
      "ENTER THE NO: 13\n",
      "13 is not Even no\n",
      "Thankyou\n"
     ]
    }
   ],
   "source": [
    "try:\n",
    "    num = int(input(\"ENTER THE NO: \"))\n",
    "    number(num)\n",
    "except validateEven as e:\n",
    "    print(e)\n",
    "else:\n",
    "    print(\"Valid even no\")\n",
    "finally:\n",
    "    print(\"Thankyou\")"
   ]
  },
  {
   "cell_type": "markdown",
   "id": "1ef9bf3a",
   "metadata": {},
   "source": [
    "# 5) What are custom exceptions in Python? Why do we need Custom Exceptions? Explain with an example"
   ]
  },
  {
   "cell_type": "markdown",
   "id": "45891207",
   "metadata": {},
   "source": [
    "In Python, you can create custom exceptions by defining a new class that inherits from the Exception class. Custom exceptions allow you to define specific exception types that can be raised and caught in your code.\n",
    "\n",
    "You need custom exceptions when you want to provide a more descriptive error message or want to handle specific error conditions in a different way. For example, if you're writing a function that performs a specific operation, you can define a custom exception for that function. If the operation fails, you can raise the custom exception and provide a detailed error message.\n",
    "\n",
    "Here's an example of a custom exception in Python:"
   ]
  },
  {
   "cell_type": "code",
   "execution_count": 13,
   "id": "634e4c99",
   "metadata": {},
   "outputs": [
    {
     "name": "stdout",
     "output_type": "stream",
     "text": [
      "Error: Cannot divide by zero.\n"
     ]
    }
   ],
   "source": [
    "class InvalidInputError(Exception):\n",
    "    def __init__(self, message):\n",
    "        self.message = message\n",
    "\n",
    "def divide(a, b):\n",
    "    if b == 0:\n",
    "        raise InvalidInputError(\"Error: Cannot divide by zero.\")\n",
    "    return a / b\n",
    "\n",
    "try:\n",
    "    result = divide(10, 0)\n",
    "except InvalidInputError as e:\n",
    "    print(e.message)"
   ]
  },
  {
   "cell_type": "markdown",
   "id": "12f89b56",
   "metadata": {},
   "source": [
    "In this example, we define a custom exception InvalidInputError that inherits from the Exception class. The custom exception takes a message as an argument, which can be accessed using the message attribute. The divide function raises the InvalidInputError exception if the second argument is 0, providing a descriptive error message. The try-except block calls the divide function and catches the InvalidInputError exception. The except block prints the error message from the custom exception."
   ]
  },
  {
   "cell_type": "markdown",
   "id": "98c026c8",
   "metadata": {},
   "source": [
    "# 6) Create a Custom Exception class. Use this class to handle an exception"
   ]
  },
  {
   "cell_type": "code",
   "execution_count": 19,
   "id": "35dc09c4",
   "metadata": {},
   "outputs": [],
   "source": [
    "class passwordvalidate(Exception):\n",
    "    def __init__(self,msg):\n",
    "        self.msg = msg"
   ]
  },
  {
   "cell_type": "code",
   "execution_count": 22,
   "id": "78a07944",
   "metadata": {},
   "outputs": [],
   "source": [
    "def password(s):\n",
    "    if len(s)<10:\n",
    "        raise passwordvalidate(\"password length should be greater than 10\")\n",
    "    else:\n",
    "        print(\"password validated\")\n",
    "        "
   ]
  },
  {
   "cell_type": "code",
   "execution_count": 23,
   "id": "681282e6",
   "metadata": {},
   "outputs": [
    {
     "name": "stdout",
     "output_type": "stream",
     "text": [
      "Enter your password: 121435\n",
      "password length should be greater than 10\n",
      "Thank you\n"
     ]
    }
   ],
   "source": [
    "try:\n",
    "    s = input('Enter your password: ')\n",
    "    password(s)\n",
    "except passwordvalidate as e:\n",
    "    print(e)\n",
    "finally:\n",
    "    print(\"Thank you\")"
   ]
  },
  {
   "cell_type": "code",
   "execution_count": null,
   "id": "0f649c70",
   "metadata": {},
   "outputs": [],
   "source": []
  }
 ],
 "metadata": {
  "kernelspec": {
   "display_name": "Python 3 (ipykernel)",
   "language": "python",
   "name": "python3"
  },
  "language_info": {
   "codemirror_mode": {
    "name": "ipython",
    "version": 3
   },
   "file_extension": ".py",
   "mimetype": "text/x-python",
   "name": "python",
   "nbconvert_exporter": "python",
   "pygments_lexer": "ipython3",
   "version": "3.9.12"
  }
 },
 "nbformat": 4,
 "nbformat_minor": 5
}
