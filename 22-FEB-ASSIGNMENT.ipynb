{
 "cells": [
  {
   "cell_type": "markdown",
   "id": "9886324b",
   "metadata": {},
   "source": [
    "# Go to this given URL and solve the following questions.\n",
    "URL: https://www.youtube.com/@PW-Foundation/videos"
   ]
  },
  {
   "cell_type": "code",
   "execution_count": 1,
   "id": "b4fe58b3",
   "metadata": {},
   "outputs": [
    {
     "name": "stdout",
     "output_type": "stream",
     "text": [
      "<Response [200]>\n"
     ]
    }
   ],
   "source": [
    "import requests\n",
    "from bs4 import BeautifulSoup\n",
    "from pandas import DataFrame\n",
    "from json import loads\n",
    "\n",
    "\n",
    "url = 'https://www.youtube.com/@PW-Foundation/videos'\n",
    "\n",
    "# Get the html by get method\n",
    "r = requests.get(url)\n",
    "print(r)\n",
    "\n",
    "# Create BeautifulSoup object\n",
    "soup = BeautifulSoup(r.text, 'html.parser')\n",
    "all_script_tags = soup.findAll('script')"
   ]
  },
  {
   "cell_type": "markdown",
   "id": "f50a9d00",
   "metadata": {},
   "source": [
    "So far, this code imports necessary modules for web scraping, sends an HTTP GET request to a YouTube channel URL, creates a BeautifulSoup object from the HTML code of the web page, and finds all the script tags in the web page.\n",
    "\n",
    "The resulting list all_script_tags contains all the script tags in the web page, which can be used to extract the ytInitialData JSON object that contains data for the videos on the channel. We can use the script_tag_to_json() function and the get_contents_dict() function defined earlier to extract this data.\n",
    "\n",
    "Next, we can process the data to extract specific information about each video, such as the title, views, likes, and comments. We can then use this data to create a Pandas DataFrame, which can be used for further analysis and visualization."
   ]
  },
  {
   "cell_type": "code",
   "execution_count": 2,
   "id": "d23b595a",
   "metadata": {},
   "outputs": [],
   "source": [
    "\n",
    "def script_tag_to_json(tags: list) -> dict:\n",
    "    for tag in reversed(tags):\n",
    "        text: str = tag.text\n",
    "        if 'ytInitialData = {\"responseContext\"' in text:\n",
    "            return loads(text[20:-1])\n",
    "\n",
    "    raise ValueError('Required script tag not found in the given tags.')"
   ]
  },
  {
   "cell_type": "markdown",
   "id": "2e246b11",
   "metadata": {},
   "source": [
    "This code defines a function script_tag_to_json() that converts a script tag to a JSON object.\n",
    "\n",
    "The function takes a list of script tags as input and searches for the tag that contains the JSON data that we are interested in. It does this by iterating over the list of tags in reverse order (starting from the end of the list), and searching for the ytInitialData JSON object in the text attribute of each tag.\n",
    "\n",
    "If the required ytInitialData JSON object is found, the function extracts the JSON string from the text attribute of the tag (excluding the first 20 and last 1 characters, which contain some unwanted characters), and uses the loads() method from the json module to convert the string to a Python dictionary.\n",
    "\n",
    "If the required ytInitialData JSON object is not found in any of the tags, the function raises a ValueError.\n",
    "\n",
    "The resulting dictionary contains the data that we are interested in, which can be used for further analysis or manipulation."
   ]
  },
  {
   "cell_type": "code",
   "execution_count": 3,
   "id": "39bc0b20",
   "metadata": {},
   "outputs": [],
   "source": [
    "data = script_tag_to_json(all_script_tags)\n",
    "\n",
    "#Return data from videos\n",
    "def get_contents_dict(data):\n",
    "    return data['contents']['twoColumnBrowseResultsRenderer']['tabs'][1]['tabRenderer']['content']['richGridRenderer']['contents']"
   ]
  },
  {
   "cell_type": "markdown",
   "id": "d31cd4e8",
   "metadata": {},
   "source": [
    "This code defines a function get_contents_dict() that extracts the contents dictionary from the ytInitialData JSON object.\n",
    "\n",
    "The function takes the ytInitialData dictionary as input and returns the contents dictionary that contains the data for the videos on the channel.\n",
    "\n",
    "The contents dictionary can be found by navigating through the various keys in the ytInitialData dictionary. In this case, we can find it by following this path:M"
   ]
  },
  {
   "cell_type": "code",
   "execution_count": null,
   "id": "2b440a84",
   "metadata": {},
   "outputs": [],
   "source": [
    "'contents'\n",
    "    'twoColumnBrowseResultsRenderer'\n",
    "        'tabs'\n",
    "            [1]\n",
    "                'tabRenderer'\n",
    "                    'content'\n",
    "                        'richGridRenderer'\n",
    "                            'contents'"
   ]
  },
  {
   "cell_type": "markdown",
   "id": "1cea196c",
   "metadata": {},
   "source": [
    "The resulting contents dictionary contains a list of dictionaries, where each dictionary represents a video on the channel. This data can be further processed and analyzed to extract specific information about each video, such as the title, views, likes, and comments."
   ]
  },
  {
   "cell_type": "markdown",
   "id": "f0da1361",
   "metadata": {},
   "source": [
    "# Q2. Write a python program to extract the URL of the video thumbnails of the first five videos.\n",
    "Get video thumbnails"
   ]
  },
  {
   "cell_type": "code",
   "execution_count": 6,
   "id": "9271a193",
   "metadata": {},
   "outputs": [
    {
     "data": {
      "text/plain": [
       "['https://i.ytimg.com/vi/0s6hAsFGxYE/hqdefault.jpg?sqp=-oaymwE9CNACELwBSFryq4qpAy8IARUAAAAAGAElAADIQj0AgKJDeAHwAQH4Af4JgALQBYoCDAgAEAEYOSBjKHIwDw==&rs=AOn4CLCHB36-hdJz0w0caTIXl6_tuk6u7Q',\n",
       " 'https://i.ytimg.com/vi/YXRyMc_noiE/hqdefault.jpg?sqp=-oaymwEjCNACELwBSFryq4qpAxUIARUAAAAAGAElAADIQj0AgKJDeAE=&rs=AOn4CLDy6kA24v5_xZ6O9YkW9P1nDbFqRA',\n",
       " 'https://i.ytimg.com/vi/PI1obes98Zc/hqdefault.jpg?sqp=-oaymwEjCNACELwBSFryq4qpAxUIARUAAAAAGAElAADIQj0AgKJDeAE=&rs=AOn4CLCmDshrYrFfclOymZmlDi79xYzKMA',\n",
       " 'https://i.ytimg.com/vi/16fUsD0M1-I/hqdefault.jpg?sqp=-oaymwEjCNACELwBSFryq4qpAxUIARUAAAAAGAElAADIQj0AgKJDeAE=&rs=AOn4CLDSdB3RrY_91M4wFdU8WorfjHTrGA',\n",
       " 'https://i.ytimg.com/vi/S0RySN5arvk/hqdefault.jpg?sqp=-oaymwEjCNACELwBSFryq4qpAxUIARUAAAAAGAElAADIQj0AgKJDeAE=&rs=AOn4CLAMklN-udq5wIHmAyDjx4yd4HxvGg']"
      ]
     },
     "execution_count": 6,
     "metadata": {},
     "output_type": "execute_result"
    }
   ],
   "source": [
    "def get_thumbnails(data: dict, n: int = 5):\n",
    "    contents = get_contents_dict(data)\n",
    "\n",
    "    if n > 30:\n",
    "        raise ValueError('Max Limit is 30.')\n",
    "\n",
    "    result = []\n",
    "    for i in range(n):\n",
    "        result.append(contents[i]['richItemRenderer']['content']['videoRenderer']['thumbnail']['thumbnails'][-1]['url'])\n",
    "\n",
    "    return result\n",
    "\n",
    "get_thumbnails(data)"
   ]
  },
  {
   "cell_type": "markdown",
   "id": "013e770b",
   "metadata": {},
   "source": [
    "# Q3. Write a python program to extract the title of the first five videos.\n",
    "Get video title"
   ]
  },
  {
   "cell_type": "code",
   "execution_count": 7,
   "id": "5b2d594a",
   "metadata": {},
   "outputs": [
    {
     "data": {
      "text/plain": [
       "[\"India's NO.1 Batch for Class 10th - UDAAN ⚡ Launching Today !! Check Description.\",\n",
       " \"India's Biggest Scholarship Test for Classes 8th to 12th !! 🔥🔥 || PW SAT 2023 ⚡💥\",\n",
       " 'How to score 95%+ in class 10th? Complete year Powerful Strategy!!',\n",
       " 'Last 4 Days Left For SST Exam || How To Manage to Score 80/80 in Boards || Class-10th',\n",
       " 'Benefits of Choosing Commerce After 10th | Commerce क्यों लेना चाहिए? | CBSE | ICSE | State Boards']"
      ]
     },
     "execution_count": 7,
     "metadata": {},
     "output_type": "execute_result"
    }
   ],
   "source": [
    "def get_title(data: dict, n:int = 5):\n",
    "    contents = get_contents_dict(data)\n",
    "\n",
    "    if n > 30:\n",
    "        raise ValueError('Max Limit is 30.')\n",
    "\n",
    "    result = []\n",
    "    for i in range(n):\n",
    "        result.append(contents[i]['richItemRenderer']['content']['videoRenderer']['title']['runs'][-1]['text'])\n",
    "\n",
    "    return result\n",
    "\n",
    "get_title(data)"
   ]
  },
  {
   "cell_type": "markdown",
   "id": "e7b9489f",
   "metadata": {},
   "source": [
    "This code defines a function get_title() that extracts the titles of the first n videos on the channel.\n",
    "\n",
    "The function takes the ytInitialData dictionary as input and an optional parameter n that specifies the number of titles to retrieve (default value is 5). The function first extracts the contents dictionary using the get_contents_dict() function, and then iterates over the first n items in the contents list.\n",
    "\n",
    "For each item, the function extracts the title of the video by selecting the last item in the runs list of the title dictionary.\n",
    "\n",
    "The resulting list result contains the titles of the first n videos on the channel. These titles can be used to identify each video and to display the titles in a list or table."
   ]
  },
  {
   "cell_type": "markdown",
   "id": "b469f7c8",
   "metadata": {},
   "source": [
    "# Q4. Write a python program to extract the number of views of the first five videos.\n",
    "Get video views"
   ]
  },
  {
   "cell_type": "code",
   "execution_count": 8,
   "id": "559b98a1",
   "metadata": {},
   "outputs": [
    {
     "data": {
      "text/plain": [
       "[55897, 66206, 253928, 69178, 32114]"
      ]
     },
     "execution_count": 8,
     "metadata": {},
     "output_type": "execute_result"
    }
   ],
   "source": [
    "def get_viwes(data: dict, n: int = 5):\n",
    "    contents = get_contents_dict(data)\n",
    "\n",
    "    if n > 30:\n",
    "        raise ValueError('Max Limit is 30.')\n",
    "\n",
    "    result = []\n",
    "    for i in range(n):\n",
    "        result.append(int(contents[i]['richItemRenderer']['content']['videoRenderer']['viewCountText']['simpleText']\n",
    "                      [:-6].replace(',', '')))\n",
    "\n",
    "    return result\n",
    "\n",
    "get_viwes(data)"
   ]
  },
  {
   "cell_type": "markdown",
   "id": "12d981d4",
   "metadata": {},
   "source": [
    "This code defines a function get_views() that extracts the view counts of the first n videos on the channel.\n",
    "\n",
    "The function takes the ytInitialData dictionary as input and an optional parameter n that specifies the number of view counts to retrieve (default value is 5). The function first extracts the contents dictionary using the get_contents_dict() function, and then iterates over the first n items in the contents list.\n",
    "\n",
    "For each item, the function extracts the view count of the video by selecting the simpleText value of the viewCountText dictionary. The view count is then converted to an integer by removing the last six characters (which represent \" views\") and any commas.\n",
    "\n",
    "The resulting list result contains the view counts of the first n videos on the channel. These view counts can be used to measure the popularity of each video and to display the view counts in a list or table."
   ]
  },
  {
   "cell_type": "markdown",
   "id": "1d65d9a6",
   "metadata": {},
   "source": [
    "# Q5. Write a python program to extract the time of posting of video for the first five videos.\n",
    "Get time of posting of video"
   ]
  },
  {
   "cell_type": "code",
   "execution_count": 9,
   "id": "411af2d1",
   "metadata": {},
   "outputs": [
    {
     "data": {
      "text/plain": [
       "['3 days ago', '4 days ago', '2 weeks ago', '2 weeks ago', '2 weeks ago']"
      ]
     },
     "execution_count": 9,
     "metadata": {},
     "output_type": "execute_result"
    }
   ],
   "source": [
    "def get_time_of_posting(data: dict, n: int = 5):\n",
    "    contents = get_contents_dict(data)\n",
    "\n",
    "    if n > 30:\n",
    "        raise ValueError('Max Limit is 30.')\n",
    "\n",
    "    result = []\n",
    "    for i in range(n):\n",
    "        result.append(contents[i]['richItemRenderer']['content']['videoRenderer']['publishedTimeText']['simpleText'])\n",
    "\n",
    "    return result\n",
    "\n",
    "get_time_of_posting(data)"
   ]
  },
  {
   "cell_type": "markdown",
   "id": "7f086b3b",
   "metadata": {},
   "source": [
    "This code defines a function get_time_of_posting() that extracts the publication dates of the first n videos on the channel.\n",
    "\n",
    "The function takes the ytInitialData dictionary as input and an optional parameter n that specifies the number of publication dates to retrieve (default value is 5). The function first extracts the contents dictionary using the get_contents_dict() function, and then iterates over the first n items in the contents list.\n",
    "\n",
    "For each item, the function extracts the publication date of the video by selecting the simpleText value of the publishedTimeText dictionary.\n",
    "\n",
    "The resulting list result contains the publication dates of the first n videos on the channel. These dates can be used to determine when each video was published and to display the publication dates in a list or table."
   ]
  },
  {
   "cell_type": "markdown",
   "id": "85703766",
   "metadata": {},
   "source": [
    "## Note: Save all the data scraped in the above questions in a CSV file.\n",
    "Save data in CSV format."
   ]
  },
  {
   "cell_type": "markdown",
   "id": "38ca82be",
   "metadata": {},
   "source": [
    "def get_channel_video_details(data: dict, n: int):\n",
    "    thumbnails = get_thumbnails(data, n)\n",
    "    time_of_posting = get_time_of_posting(data, n)\n",
    "    titles = get_title(data, n)\n",
    "    video_urls = get_videoUrl(data, n)\n",
    "\n",
    "    main_data = list(zip(video_urls, titles, thumbnails, time_of_posting))\n",
    "    \n",
    "    df = DataFrame.from_dict(main_data)\n",
    "    df.rename(\n",
    "        columns={\n",
    "            0: 'video_urls',\n",
    "            1: 'title',\n",
    "            2: 'thumbnail_url',\n",
    "            3: 'time_of_posting'\n",
    "        }, inplace=True)\n",
    "\n",
    "    return df\n",
    "\n",
    "channel_data = get_channel_video_details(data, 30)\n",
    "channel_data.to_csv('PW-Foundation.csv', index=False)"
   ]
  },
  {
   "cell_type": "markdown",
   "id": "3481a5c6",
   "metadata": {},
   "source": [
    "This code defines a function get_channel_video_details() that extracts the video details of the first n videos on the channel.\n",
    "\n",
    "The function takes the ytInitialData dictionary as input and an integer n that specifies the number of videos to retrieve. The function calls the get_thumbnails(), get_time_of_posting(), get_title(), and get_videoUrl() functions to extract the thumbnail URLs, publication dates, titles, and video URLs of the first n videos on the channel. It then zips these lists together into a single list of tuples called main_data.\n",
    "\n",
    "The function then creates a Pandas DataFrame from main_data and renames the columns to video_urls, title, thumbnail_url, and time_of_posting. Finally, the function returns the DataFrame.\n",
    "\n",
    "The resulting DataFrame channel_data contains the video details of the first n videos on the channel, including the video URLs, titles, thumbnail URLs, and publication dates. The DataFrame is saved to a CSV file called PW-Foundation.csv with the to_csv() method."
   ]
  },
  {
   "cell_type": "code",
   "execution_count": null,
   "id": "8995d1b0",
   "metadata": {},
   "outputs": [],
   "source": []
  }
 ],
 "metadata": {
  "kernelspec": {
   "display_name": "Python 3 (ipykernel)",
   "language": "python",
   "name": "python3"
  },
  "language_info": {
   "codemirror_mode": {
    "name": "ipython",
    "version": 3
   },
   "file_extension": ".py",
   "mimetype": "text/x-python",
   "name": "python",
   "nbconvert_exporter": "python",
   "pygments_lexer": "ipython3",
   "version": "3.9.12"
  }
 },
 "nbformat": 4,
 "nbformat_minor": 5
}
