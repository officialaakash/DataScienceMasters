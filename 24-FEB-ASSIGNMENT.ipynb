{
 "cells": [
  {
   "cell_type": "markdown",
   "id": "e6d6f082",
   "metadata": {},
   "source": [
    "# Q1. List any five functions of the pandas library with execution."
   ]
  },
  {
   "cell_type": "markdown",
   "id": "6fa8aa27",
   "metadata": {},
   "source": [
    "Here are five functions of the Pandas library with example code:\n",
    "\n",
    "The DataFrame() function creates a pandas DataFrame, which is a 2-dimensional labeled data structure with columns of potentially different types. The DataFrame can be created from a variety of sources, such as a dictionary, a NumPy array, or a CS"
   ]
  },
  {
   "cell_type": "code",
   "execution_count": 1,
   "id": "28dc534d",
   "metadata": {},
   "outputs": [
    {
     "data": {
      "text/html": [
       "<div>\n",
       "<style scoped>\n",
       "    .dataframe tbody tr th:only-of-type {\n",
       "        vertical-align: middle;\n",
       "    }\n",
       "\n",
       "    .dataframe tbody tr th {\n",
       "        vertical-align: top;\n",
       "    }\n",
       "\n",
       "    .dataframe thead th {\n",
       "        text-align: right;\n",
       "    }\n",
       "</style>\n",
       "<table border=\"1\" class=\"dataframe\">\n",
       "  <thead>\n",
       "    <tr style=\"text-align: right;\">\n",
       "      <th></th>\n",
       "      <th>Name</th>\n",
       "      <th>Age</th>\n",
       "    </tr>\n",
       "  </thead>\n",
       "  <tbody>\n",
       "    <tr>\n",
       "      <th>0</th>\n",
       "      <td>Alice</td>\n",
       "      <td>25</td>\n",
       "    </tr>\n",
       "    <tr>\n",
       "      <th>1</th>\n",
       "      <td>Bob</td>\n",
       "      <td>30</td>\n",
       "    </tr>\n",
       "    <tr>\n",
       "      <th>2</th>\n",
       "      <td>Charlie</td>\n",
       "      <td>35</td>\n",
       "    </tr>\n",
       "  </tbody>\n",
       "</table>\n",
       "</div>"
      ],
      "text/plain": [
       "      Name  Age\n",
       "0    Alice   25\n",
       "1      Bob   30\n",
       "2  Charlie   35"
      ]
     },
     "execution_count": 1,
     "metadata": {},
     "output_type": "execute_result"
    }
   ],
   "source": [
    "import pandas as pd\n",
    "\n",
    "# Creating a DataFrame from a dictionary\n",
    "data = {\"Name\": [\"Alice\", \"Bob\", \"Charlie\"], \"Age\": [25, 30, 35]}\n",
    "df = pd.DataFrame(data)\n",
    "df"
   ]
  },
  {
   "cell_type": "markdown",
   "id": "7c8f7208",
   "metadata": {},
   "source": [
    "describe(): The describe() function generates descriptive statistics of a pandas DataFrame, such as count, mean, standard deviation, and more. This function is useful for quickly understanding the distribution and range of values in a dataset.\n",
    "Example:"
   ]
  },
  {
   "cell_type": "code",
   "execution_count": 3,
   "id": "f6f831db",
   "metadata": {},
   "outputs": [
    {
     "data": {
      "text/html": [
       "<div>\n",
       "<style scoped>\n",
       "    .dataframe tbody tr th:only-of-type {\n",
       "        vertical-align: middle;\n",
       "    }\n",
       "\n",
       "    .dataframe tbody tr th {\n",
       "        vertical-align: top;\n",
       "    }\n",
       "\n",
       "    .dataframe thead th {\n",
       "        text-align: right;\n",
       "    }\n",
       "</style>\n",
       "<table border=\"1\" class=\"dataframe\">\n",
       "  <thead>\n",
       "    <tr style=\"text-align: right;\">\n",
       "      <th></th>\n",
       "      <th>total_bill</th>\n",
       "      <th>tip</th>\n",
       "      <th>size</th>\n",
       "    </tr>\n",
       "  </thead>\n",
       "  <tbody>\n",
       "    <tr>\n",
       "      <th>count</th>\n",
       "      <td>244.000000</td>\n",
       "      <td>244.000000</td>\n",
       "      <td>244.000000</td>\n",
       "    </tr>\n",
       "    <tr>\n",
       "      <th>mean</th>\n",
       "      <td>19.785943</td>\n",
       "      <td>2.998279</td>\n",
       "      <td>2.569672</td>\n",
       "    </tr>\n",
       "    <tr>\n",
       "      <th>std</th>\n",
       "      <td>8.902412</td>\n",
       "      <td>1.383638</td>\n",
       "      <td>0.951100</td>\n",
       "    </tr>\n",
       "    <tr>\n",
       "      <th>min</th>\n",
       "      <td>3.070000</td>\n",
       "      <td>1.000000</td>\n",
       "      <td>1.000000</td>\n",
       "    </tr>\n",
       "    <tr>\n",
       "      <th>25%</th>\n",
       "      <td>13.347500</td>\n",
       "      <td>2.000000</td>\n",
       "      <td>2.000000</td>\n",
       "    </tr>\n",
       "    <tr>\n",
       "      <th>50%</th>\n",
       "      <td>17.795000</td>\n",
       "      <td>2.900000</td>\n",
       "      <td>2.000000</td>\n",
       "    </tr>\n",
       "    <tr>\n",
       "      <th>75%</th>\n",
       "      <td>24.127500</td>\n",
       "      <td>3.562500</td>\n",
       "      <td>3.000000</td>\n",
       "    </tr>\n",
       "    <tr>\n",
       "      <th>max</th>\n",
       "      <td>50.810000</td>\n",
       "      <td>10.000000</td>\n",
       "      <td>6.000000</td>\n",
       "    </tr>\n",
       "  </tbody>\n",
       "</table>\n",
       "</div>"
      ],
      "text/plain": [
       "       total_bill         tip        size\n",
       "count  244.000000  244.000000  244.000000\n",
       "mean    19.785943    2.998279    2.569672\n",
       "std      8.902412    1.383638    0.951100\n",
       "min      3.070000    1.000000    1.000000\n",
       "25%     13.347500    2.000000    2.000000\n",
       "50%     17.795000    2.900000    2.000000\n",
       "75%     24.127500    3.562500    3.000000\n",
       "max     50.810000   10.000000    6.000000"
      ]
     },
     "execution_count": 3,
     "metadata": {},
     "output_type": "execute_result"
    }
   ],
   "source": [
    "import seaborn as sns\n",
    "\n",
    "df = sns.load_dataset('tips')\n",
    "df.describe()"
   ]
  },
  {
   "cell_type": "markdown",
   "id": "99738e4d",
   "metadata": {},
   "source": [
    "3)pivot_table(): This function is used to create a spreadsheet-style pivot table based on a Pandas DataFrame, which is useful for summarizing and aggregating data.\n",
    "\n",
    "Example"
   ]
  },
  {
   "cell_type": "code",
   "execution_count": 5,
   "id": "b9840c9b",
   "metadata": {},
   "outputs": [
    {
     "data": {
      "text/html": [
       "<div>\n",
       "<style scoped>\n",
       "    .dataframe tbody tr th:only-of-type {\n",
       "        vertical-align: middle;\n",
       "    }\n",
       "\n",
       "    .dataframe tbody tr th {\n",
       "        vertical-align: top;\n",
       "    }\n",
       "\n",
       "    .dataframe thead th {\n",
       "        text-align: right;\n",
       "    }\n",
       "</style>\n",
       "<table border=\"1\" class=\"dataframe\">\n",
       "  <thead>\n",
       "    <tr style=\"text-align: right;\">\n",
       "      <th></th>\n",
       "      <th></th>\n",
       "      <th>Salary</th>\n",
       "    </tr>\n",
       "    <tr>\n",
       "      <th>Sex</th>\n",
       "      <th>Age</th>\n",
       "      <th></th>\n",
       "    </tr>\n",
       "  </thead>\n",
       "  <tbody>\n",
       "    <tr>\n",
       "      <th>F</th>\n",
       "      <th>25</th>\n",
       "      <td>52500</td>\n",
       "    </tr>\n",
       "    <tr>\n",
       "      <th rowspan=\"3\" valign=\"top\">M</th>\n",
       "      <th>30</th>\n",
       "      <td>62500</td>\n",
       "    </tr>\n",
       "    <tr>\n",
       "      <th>35</th>\n",
       "      <td>70000</td>\n",
       "    </tr>\n",
       "    <tr>\n",
       "      <th>40</th>\n",
       "      <td>80000</td>\n",
       "    </tr>\n",
       "  </tbody>\n",
       "</table>\n",
       "</div>"
      ],
      "text/plain": [
       "         Salary\n",
       "Sex Age        \n",
       "F   25    52500\n",
       "M   30    62500\n",
       "    35    70000\n",
       "    40    80000"
      ]
     },
     "execution_count": 5,
     "metadata": {},
     "output_type": "execute_result"
    }
   ],
   "source": [
    "import pandas as pd\n",
    "\n",
    "# Creating a DataFrame\n",
    "data = {\"Name\": [\"Alice\", \"Bob\", \"Charlie\", \"David\", \"Ella\", \"Frank\"],\n",
    "        \"Sex\": [\"F\", \"M\", \"M\", \"M\", \"F\", \"M\"],\n",
    "        \"Age\": [25, 30, 35, 40, 25, 30],\n",
    "        \"Salary\": [50000, 60000, 70000, 80000, 55000, 65000]}\n",
    "df = pd.DataFrame(data)\n",
    "\n",
    "# Creating a pivot table\n",
    "pivot_df = pd.pivot_table(df, index=[\"Sex\", \"Age\"], values=\"Salary\", aggfunc=\"mean\")\n",
    "\n",
    "pivot_df"
   ]
  },
  {
   "cell_type": "markdown",
   "id": "fc291dba",
   "metadata": {},
   "source": [
    "4)merge(): The merge() function merges two pandas DataFrames based on one or more common columns. This function is useful for combining data from multiple sources based on a shared key."
   ]
  },
  {
   "cell_type": "code",
   "execution_count": 6,
   "id": "eec89afd",
   "metadata": {},
   "outputs": [
    {
     "data": {
      "text/html": [
       "<div>\n",
       "<style scoped>\n",
       "    .dataframe tbody tr th:only-of-type {\n",
       "        vertical-align: middle;\n",
       "    }\n",
       "\n",
       "    .dataframe tbody tr th {\n",
       "        vertical-align: top;\n",
       "    }\n",
       "\n",
       "    .dataframe thead th {\n",
       "        text-align: right;\n",
       "    }\n",
       "</style>\n",
       "<table border=\"1\" class=\"dataframe\">\n",
       "  <thead>\n",
       "    <tr style=\"text-align: right;\">\n",
       "      <th></th>\n",
       "      <th>Name</th>\n",
       "      <th>Age</th>\n",
       "      <th>Salary</th>\n",
       "    </tr>\n",
       "  </thead>\n",
       "  <tbody>\n",
       "    <tr>\n",
       "      <th>0</th>\n",
       "      <td>Bob</td>\n",
       "      <td>30</td>\n",
       "      <td>50000</td>\n",
       "    </tr>\n",
       "  </tbody>\n",
       "</table>\n",
       "</div>"
      ],
      "text/plain": [
       "  Name  Age  Salary\n",
       "0  Bob   30   50000"
      ]
     },
     "execution_count": 6,
     "metadata": {},
     "output_type": "execute_result"
    }
   ],
   "source": [
    "import pandas as pd\n",
    "\n",
    "# Creating two DataFrames\n",
    "df1 = pd.DataFrame({\"Name\": [\"Alice\", \"Bob\"], \"Age\": [25, 30]})\n",
    "df2 = pd.DataFrame({\"Name\": [\"Bob\", \"Charlie\"], \"Salary\": [50000, 60000]})\n",
    "\n",
    "# Merging two DataFrames based on a common column\n",
    "merged_df = pd.merge(df1, df2, on=\"Name\")\n",
    "merged_df"
   ]
  },
  {
   "cell_type": "markdown",
   "id": "a348863c",
   "metadata": {},
   "source": [
    "5)apply(): The apply() function applies a given function to each element of a pandas DataFrame or Series. This function is useful for transforming data in a DataFrame or Series according to a specified operatiom"
   ]
  },
  {
   "cell_type": "code",
   "execution_count": 11,
   "id": "782a0045",
   "metadata": {},
   "outputs": [
    {
     "data": {
      "text/html": [
       "<div>\n",
       "<style scoped>\n",
       "    .dataframe tbody tr th:only-of-type {\n",
       "        vertical-align: middle;\n",
       "    }\n",
       "\n",
       "    .dataframe tbody tr th {\n",
       "        vertical-align: top;\n",
       "    }\n",
       "\n",
       "    .dataframe thead th {\n",
       "        text-align: right;\n",
       "    }\n",
       "</style>\n",
       "<table border=\"1\" class=\"dataframe\">\n",
       "  <thead>\n",
       "    <tr style=\"text-align: right;\">\n",
       "      <th></th>\n",
       "      <th>Name</th>\n",
       "      <th>Age</th>\n",
       "    </tr>\n",
       "  </thead>\n",
       "  <tbody>\n",
       "    <tr>\n",
       "      <th>0</th>\n",
       "      <td>Alice</td>\n",
       "      <td>45</td>\n",
       "    </tr>\n",
       "    <tr>\n",
       "      <th>1</th>\n",
       "      <td>Bob</td>\n",
       "      <td>50</td>\n",
       "    </tr>\n",
       "    <tr>\n",
       "      <th>2</th>\n",
       "      <td>Charlie</td>\n",
       "      <td>55</td>\n",
       "    </tr>\n",
       "  </tbody>\n",
       "</table>\n",
       "</div>"
      ],
      "text/plain": [
       "      Name  Age\n",
       "0    Alice   45\n",
       "1      Bob   50\n",
       "2  Charlie   55"
      ]
     },
     "execution_count": 11,
     "metadata": {},
     "output_type": "execute_result"
    }
   ],
   "source": [
    "import pandas as pd\n",
    "\n",
    "# Creating a DataFrame\n",
    "data = {\"Name\": [\"Alice\", \"Bob\", \"Charlie\"],\n",
    "        \"Age\": [25, 30, 35]}\n",
    "df = pd.DataFrame(data)\n",
    "\n",
    "\n",
    "\n",
    "\n",
    "# Applying the function to the \"Age\" column of the DataFrame\n",
    "df[\"Age\"] = df[\"Age\"].apply(lambda x : x+20)\n",
    "df"
   ]
  },
  {
   "cell_type": "markdown",
   "id": "b3228915",
   "metadata": {},
   "source": [
    "# Q2. Given a Pandas DataFrame df with columns 'A', 'B', and 'C', write a Python function to re-index the DataFrame with a new index that starts from 1 and increments by 2 for each row."
   ]
  },
  {
   "cell_type": "markdown",
   "id": "9380fd26",
   "metadata": {},
   "source": [
    "Here's a Python function that re-indexes the DataFrame df with a new index that starts from 1 and increments by 2 for each row:"
   ]
  },
  {
   "cell_type": "code",
   "execution_count": 13,
   "id": "9eaa6429",
   "metadata": {},
   "outputs": [
    {
     "name": "stdout",
     "output_type": "stream",
     "text": [
      "    A   B    C\n",
      "1  10  50   90\n",
      "3  20  60  100\n",
      "5  30  70  110\n",
      "7  40  80  120\n"
     ]
    }
   ],
   "source": [
    "import pandas as pd\n",
    "\n",
    "# Re-indexing the DataFrame using the reindex_df() function\n",
    "def reindex_df(df):\n",
    "    new_index = range(1, 2*len(df)+1, 2)\n",
    "    df = df.set_index(pd.Index(new_index))\n",
    "    return df\n",
    "\n",
    "#Driver Code\n",
    "# Creating a sample DataFrame\n",
    "df = pd.DataFrame({'A': [10, 20, 30, 40],\n",
    "                   'B': [50, 60, 70, 80],\n",
    "                   'C': [90, 100, 110, 120]})\n",
    "df = reindex_df(df)\n",
    "print(df)"
   ]
  },
  {
   "cell_type": "markdown",
   "id": "a13d29c9",
   "metadata": {},
   "source": [
    "# Q3. You have a Pandas DataFrame df with a column named 'Values'. Write a Python function that iterates over the DataFrame and calculates the sum of the first three values in the 'Values' column. Thefunction should print the sum to the console.For example, if the 'Values' column of df contains the values [10, 20, 30, 40, 50], your function shouldcalculate and print the sum of the first three values, which is 60."
   ]
  },
  {
   "cell_type": "code",
   "execution_count": 14,
   "id": "7511b6e5",
   "metadata": {},
   "outputs": [
    {
     "name": "stdout",
     "output_type": "stream",
     "text": [
      "The sum of the first three values in the 'Values' column is 60.\n"
     ]
    }
   ],
   "source": [
    "def sum_first_three_values(df):\n",
    "    values_col = df['Values']\n",
    "    first_three_values = values_col.iloc[:3]\n",
    "    sum_first_three = sum(first_three_values)\n",
    "    print(f\"The sum of the first three values in the 'Values' column is {sum_first_three}.\")\n",
    "    \n",
    "#Driver Code\n",
    "# Creating a sample DataFrame\n",
    "df = pd.DataFrame({'Values': [10, 20, 30, 40, 50]})\n",
    "\n",
    "# Calculating the sum of the first three values in the 'Values' column using the sum_first_three_values() function\n",
    "sum_first_three_values(df)"
   ]
  },
  {
   "cell_type": "markdown",
   "id": "230c2dd6",
   "metadata": {},
   "source": [
    "# Q4. Given a Pandas DataFrame df with a column 'Text', write a Python function to create a new column 'Word_Count' that contains the number of words in each row of the 'Text' column."
   ]
  },
  {
   "cell_type": "code",
   "execution_count": 16,
   "id": "6e8fcd9a",
   "metadata": {},
   "outputs": [
    {
     "data": {
      "text/html": [
       "<div>\n",
       "<style scoped>\n",
       "    .dataframe tbody tr th:only-of-type {\n",
       "        vertical-align: middle;\n",
       "    }\n",
       "\n",
       "    .dataframe tbody tr th {\n",
       "        vertical-align: top;\n",
       "    }\n",
       "\n",
       "    .dataframe thead th {\n",
       "        text-align: right;\n",
       "    }\n",
       "</style>\n",
       "<table border=\"1\" class=\"dataframe\">\n",
       "  <thead>\n",
       "    <tr style=\"text-align: right;\">\n",
       "      <th></th>\n",
       "      <th>Text</th>\n",
       "      <th>Word_Count</th>\n",
       "    </tr>\n",
       "  </thead>\n",
       "  <tbody>\n",
       "    <tr>\n",
       "      <th>0</th>\n",
       "      <td>This is a sample sentence</td>\n",
       "      <td>5</td>\n",
       "    </tr>\n",
       "    <tr>\n",
       "      <th>1</th>\n",
       "      <td>Here is another sentence</td>\n",
       "      <td>4</td>\n",
       "    </tr>\n",
       "    <tr>\n",
       "      <th>2</th>\n",
       "      <td>One more sentence for the example</td>\n",
       "      <td>6</td>\n",
       "    </tr>\n",
       "  </tbody>\n",
       "</table>\n",
       "</div>"
      ],
      "text/plain": [
       "                                Text  Word_Count\n",
       "0          This is a sample sentence           5\n",
       "1           Here is another sentence           4\n",
       "2  One more sentence for the example           6"
      ]
     },
     "execution_count": 16,
     "metadata": {},
     "output_type": "execute_result"
    }
   ],
   "source": [
    "def add_word_count_column(df):\n",
    "    # Split the 'Text' column on whitespace characters and count the resulting list\n",
    "    word_count = df['Text'].str.split().apply(len)\n",
    "\n",
    "    # Add the new 'Word_Count' column to the DataFrame\n",
    "    df['Word_Count'] = word_count\n",
    "    return df\n",
    "\n",
    "#Driver code\n",
    "# Creating a sample DataFrame\n",
    "df = pd.DataFrame({'Text': ['This is a sample sentence',\n",
    "                            'Here is another sentence',\n",
    "                            'One more sentence for the example']})\n",
    "\n",
    "# Adding 'Word_Count' column to the DataFrame\n",
    "df = add_word_count_column(df)\n",
    "\n",
    "# Displaying the updated DataFrame\n",
    "df"
   ]
  },
  {
   "cell_type": "markdown",
   "id": "c2fc21f7",
   "metadata": {},
   "source": [
    "# Q5. How are DataFrame.size() and DataFrame.shape() different?"
   ]
  },
  {
   "cell_type": "markdown",
   "id": "533b55c9",
   "metadata": {},
   "source": [
    " DataFrame.size() and DataFrame.shape() are both methods used to get information about the shape of a Pandas DataFrame, but they return different information.\n",
    "\n",
    "DataFrame.size() returns the total number of elements in the DataFrame, which is equal to the product of the number of rows and the number of columns. It is equivalent to DataFrame.shape[0] * DataFrame.shape[1].\n",
    "\n",
    "On the other hand, DataFrame.shape() returns a tuple containing the number of rows and the number of columns in the DataFrame, respectively. For example, if a DataFrame has 5 rows and 3 columns, DataFrame.shape() would return (5, 3).\n",
    "\n",
    "In summary, DataFrame.size() returns the total number of elements in the DataFrame, while DataFrame.shape() returns a tuple containing the number of rows and columns in the DataFrame.\n",
    "\n",
    "Here are examples of how to use DataFrame.size() and DataFrame.shape():"
   ]
  },
  {
   "cell_type": "markdown",
   "id": "32f3a0a2",
   "metadata": {},
   "source": [
    "# Q6. Which function of pandas do we use to read an excel file?"
   ]
  },
  {
   "cell_type": "markdown",
   "id": "193da321",
   "metadata": {},
   "source": [
    "\n",
    "We use the read_excel() function of pandas to read an excel file. This function reads the data from an excel file and returns a pandas DataFrame.\n",
    "\n",
    "The basic syntax of read_excel() function is as follows:"
   ]
  },
  {
   "cell_type": "code",
   "execution_count": null,
   "id": "30150138",
   "metadata": {},
   "outputs": [],
   "source": [
    "pd.read_excel('file_name.xlsx', sheet_name='Sheet1')"
   ]
  },
  {
   "cell_type": "markdown",
   "id": "b9af3560",
   "metadata": {},
   "source": [
    "# Q7. You have a Pandas DataFrame df that contains a column named 'Email' that contains emailaddresses in the format 'username@domain.com'. Write a Python function that creates a new column'Username' in df that contains only the username part of each email address."
   ]
  },
  {
   "cell_type": "code",
   "execution_count": 21,
   "id": "6e3a9956",
   "metadata": {},
   "outputs": [
    {
     "name": "stdout",
     "output_type": "stream",
     "text": [
      "                        Email        Username\n",
      "0  officialaakash@example.com  officialaakash\n",
      "1      singhvirat@example.com      singhvirat\n",
      "2     jimmy.smith@example.com     jimmy.smith\n"
     ]
    }
   ],
   "source": [
    "import pandas as pd\n",
    "\n",
    "# Function to extract username from email address\n",
    "def extract_username(email):\n",
    "    return email.split('@')[0]\n",
    "\n",
    "#Driver Code\n",
    "# Creating a sample DataFrame\n",
    "df = pd.DataFrame({'Email': ['officialaakash@example.com', 'singhvirat@example.com', 'jimmy.smith@example.com']})\n",
    "\n",
    "# Creating a new 'Username' column by applying the 'extract_username' function to the 'Email' column\n",
    "df['Username'] = df['Email'].apply(extract_username)\n",
    "\n",
    "print(df)"
   ]
  },
  {
   "cell_type": "markdown",
   "id": "0bf5788f",
   "metadata": {},
   "source": [
    "# Q8. You have a Pandas DataFrame df with columns 'A', 'B', and 'C'. Write a Python function that selects all rows where the value in column 'A' is greater than 5 and the value in column 'B' is less than 10. Thefunction should return a new DataFrame that contains only the selected rows. For example, if dfcontainsthe following values:"
   ]
  },
  {
   "cell_type": "markdown",
   "id": "d5c48fbb",
   "metadata": {},
   "source": [
    "A B C 0 3 5 1 1 8 2 7 2 6 9 4 3 2 3 5 4 9 1 2\n",
    "\n",
    "Your function should select the following rows: A B C 1 8 2 7 4 9 1 2\n",
    "\n",
    "The function should return a new DataFrame that contains only the selected rows.\n",
    "\n",
    "Here's the code for selecting the desired rows:"
   ]
  },
  {
   "cell_type": "code",
   "execution_count": 22,
   "id": "3ce8d8ae",
   "metadata": {},
   "outputs": [
    {
     "name": "stdout",
     "output_type": "stream",
     "text": [
      "   A  B  C\n",
      "1  8  2  7\n",
      "2  6  9  4\n",
      "4  9  1  2\n"
     ]
    }
   ],
   "source": [
    "import pandas as pd\n",
    "\n",
    "#Function for returing the new dataFrame of selected rows\n",
    "def select_rows(df):\n",
    "    selected_rows = df[(df['A'] > 5) & (df['B'] < 10)]\n",
    "    return selected_rows\n",
    "\n",
    "\n",
    "#Driver code\n",
    "# Creating a sample DataFrame\n",
    "df = pd.DataFrame({'A': [3, 8, 6, 2, 9],\n",
    "                   'B': [5, 2, 9, 3, 1],\n",
    "                   'C': [1, 7, 4, 5, 2]})\n",
    "\n",
    "new_df = select_rows(df)\n",
    "\n",
    "print(new_df)"
   ]
  },
  {
   "cell_type": "markdown",
   "id": "ad73e04f",
   "metadata": {},
   "source": [
    "# Q9. Given a Pandas DataFrame df with a column 'Values', write a Python function to calculate the mean,median, and standard deviation of the values in the 'Values' column."
   ]
  },
  {
   "cell_type": "code",
   "execution_count": 23,
   "id": "5dc28581",
   "metadata": {},
   "outputs": [
    {
     "name": "stdout",
     "output_type": "stream",
     "text": [
      "Mean: 30.0, Median: 30.0, Standard Deviation: 14.142135623730951\n"
     ]
    }
   ],
   "source": [
    "import pandas as pd\n",
    "import numpy as np\n",
    "\n",
    "#Function to create mean, median, std\n",
    "def calculate_stats(df):\n",
    "    values_col = df['Values']\n",
    "    mean = np.mean(values_col)\n",
    "    median = np.median(values_col)\n",
    "    std_dev = np.std(values_col)\n",
    "    print(f\"Mean: {mean}, Median: {median}, Standard Deviation: {std_dev}\")\n",
    "    \n",
    "#Driver Code   \n",
    "\n",
    "# Creating a sample DataFrame\n",
    "df = pd.DataFrame({'Values': [10, 20, 30, 40, 50]})\n",
    "\n",
    "# Calculating mean, median, and standard deviation of the values in the 'Values' column using the calculate_stats() function\n",
    "calculate_stats(df)"
   ]
  },
  {
   "cell_type": "markdown",
   "id": "48376d20",
   "metadata": {},
   "source": [
    "# Q10. Given a Pandas DataFrame df with a column 'Sales' and a column 'Date', write a Python function to create a new column 'MovingAverage' that contains the moving average of the sales for the past 7 daysfor each row in the DataFrame. The moving average should be calculated using a window of size 7 andshould include the current day."
   ]
  },
  {
   "cell_type": "code",
   "execution_count": 24,
   "id": "9d9013ba",
   "metadata": {},
   "outputs": [
    {
     "name": "stdout",
     "output_type": "stream",
     "text": [
      "   Sales       Date  MovingAverage\n",
      "0     10 2022-01-01           10.0\n",
      "1     15 2022-01-02           12.5\n",
      "2     20 2022-01-03           15.0\n",
      "3     25 2022-01-04           17.5\n",
      "4     30 2022-01-05           20.0\n",
      "5     35 2022-01-06           22.5\n",
      "6     40 2022-01-07           25.0\n",
      "7     45 2022-01-08           30.0\n",
      "8     50 2022-01-09           35.0\n"
     ]
    }
   ],
   "source": [
    "import pandas as pd\n",
    "\n",
    "def moving_average(df):\n",
    "    # Sort the DataFrame by date\n",
    "    df = df.sort_values(by='Date')\n",
    "    \n",
    "    # Calculate the rolling mean with window size 7\n",
    "    df['MovingAverage'] = df['Sales'].rolling(window=7, min_periods=1).mean()\n",
    "    \n",
    "    return df\n",
    "\n",
    "\n",
    "#Driver Code\n",
    "# Create a sample DataFrame\n",
    "df = pd.DataFrame({'Sales': [10, 15, 20, 25, 30, 35, 40, 45, 50],\n",
    "                   'Date': pd.date_range('2022-01-01', periods=9)})\n",
    "\n",
    "# Calculate the moving average\n",
    "df = moving_average(df)\n",
    "\n",
    "# Print the result\n",
    "print(df)"
   ]
  },
  {
   "cell_type": "markdown",
   "id": "97987e76",
   "metadata": {},
   "source": [
    "# Q11. You have a Pandas DataFrame df with a column 'Date'. Write a Python function that creates a newcolumn 'Weekday' in the DataFrame. The 'Weekday' column should contain the weekday name (e.g.Monday, Tuesday) corresponding to each date in the 'Date' column."
   ]
  },
  {
   "cell_type": "code",
   "execution_count": 26,
   "id": "f1ab3ab7",
   "metadata": {},
   "outputs": [
    {
     "name": "stdout",
     "output_type": "stream",
     "text": [
      "        Date    Weekday\n",
      "0 2023-01-01     Sunday\n",
      "1 2023-01-02     Monday\n",
      "2 2023-01-03    Tuesday\n",
      "3 2023-01-04  Wednesday\n",
      "4 2023-01-05   Thursday\n"
     ]
    }
   ],
   "source": [
    "import pandas as pd\n",
    "\n",
    "# Function to add weekday column\n",
    "def add_weekday_column(df):\n",
    "    # Convert 'Date' column to datetime\n",
    "    df['Date'] = pd.to_datetime(df['Date'])  # Add new 'Weekday' column with weekday name\n",
    "    df['Weekday'] = df['Date'].dt.day_name()\n",
    "    return df\n",
    "\n",
    "#Driver Code\n",
    "# Create example DataFrame\n",
    "df = pd.DataFrame({'Date': ['2023-01-01', '2023-01-02', '2023-01-03', '2023-01-04', '2023-01-05']})\n",
    "\n",
    "# Call function to add weekday column to DataFrame\n",
    "df = add_weekday_column(df)\n",
    "\n",
    "# Print modified DataFrame\n",
    "print(df)"
   ]
  },
  {
   "cell_type": "markdown",
   "id": "9b5ed829",
   "metadata": {},
   "source": [
    "# Q12. Given a Pandas DataFrame df with a column 'Date' that contains timestamps, write a Pythonfunction to select all rows where the date is between '2023-01-01' and '2023-01-31'."
   ]
  },
  {
   "cell_type": "code",
   "execution_count": 28,
   "id": "6ced3476",
   "metadata": {},
   "outputs": [
    {
     "name": "stdout",
     "output_type": "stream",
     "text": [
      "         Date\n",
      "0  2023-01-01\n",
      "1  2023-01-02\n",
      "2  2023-01-03\n",
      "3  2023-01-04\n",
      "4  2023-01-05\n",
      "5  2023-01-06\n",
      "6  2023-01-07\n",
      "7  2023-01-08\n",
      "8  2023-01-09\n",
      "9  2023-01-10\n",
      "10 2023-01-11\n",
      "11 2023-01-12\n",
      "12 2023-01-13\n",
      "13 2023-01-14\n",
      "14 2023-01-15\n",
      "15 2023-01-16\n",
      "16 2023-01-17\n",
      "17 2023-01-18\n",
      "18 2023-01-19\n",
      "19 2023-01-20\n",
      "20 2023-01-21\n",
      "21 2023-01-22\n",
      "22 2023-01-23\n",
      "23 2023-01-24\n",
      "24 2023-01-25\n",
      "25 2023-01-26\n",
      "26 2023-01-27\n",
      "27 2023-01-28\n",
      "28 2023-01-29\n",
      "29 2023-01-30\n",
      "30 2023-01-31\n"
     ]
    }
   ],
   "source": [
    "import pandas as pd\n",
    "\n",
    "# create function to select rows within date range\n",
    "def select_dates(df, start_date, end_date):\n",
    "    return df[(df['Date'] >= start_date) & (df['Date'] <= end_date)]\n",
    "\n",
    "\n",
    "\n",
    "# Driver Code\n",
    "# create dataframe with date range\n",
    "df = pd.DataFrame({\n",
    "    'Date': pd.date_range(start='2023-01-01', end='2023-02-28', freq='D')\n",
    "})\n",
    "\n",
    "# select rows within date range\n",
    "selected_df = select_dates(df, '2023-01-01', '2023-01-31')\n",
    "print(selected_df)"
   ]
  },
  {
   "cell_type": "markdown",
   "id": "98789fb5",
   "metadata": {},
   "source": [
    "# Q13. To use the basic functions of pandas, what is the first and foremost necessary library that needs tobe imported?"
   ]
  },
  {
   "cell_type": "code",
   "execution_count": null,
   "id": "8caef2cf",
   "metadata": {},
   "outputs": [],
   "source": [
    "import pandas as pd"
   ]
  }
 ],
 "metadata": {
  "kernelspec": {
   "display_name": "Python 3 (ipykernel)",
   "language": "python",
   "name": "python3"
  },
  "language_info": {
   "codemirror_mode": {
    "name": "ipython",
    "version": 3
   },
   "file_extension": ".py",
   "mimetype": "text/x-python",
   "name": "python",
   "nbconvert_exporter": "python",
   "pygments_lexer": "ipython3",
   "version": "3.9.12"
  }
 },
 "nbformat": 4,
 "nbformat_minor": 5
}
