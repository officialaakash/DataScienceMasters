{
 "cells": [
  {
   "cell_type": "markdown",
   "id": "7fc4196b",
   "metadata": {},
   "source": [
    "# Q1. What are the three measures of central tendency?"
   ]
  },
  {
   "cell_type": "markdown",
   "id": "2c4e317f",
   "metadata": {},
   "source": [
    "The three measures of central tendency are:\n",
    "\n",
    "Mean: The mean is the average of a set of numbers. It is calculated by adding all the numbers in the set and dividing the sum by the total number of values.\n",
    "Suppose we have a set of numbers {2, 4, 6, 8, 10}. To find the mean, we add up all the numbers in the set and divide by the total number of values: (2 + 4 + 6 + 8 + 10) / 5 = 30 / 5 = 6. So the mean of this set is 6.\n",
    "\n",
    "Median: The median is the middle value in a set of numbers that have been arranged in order. It is the value that separates the higher half from the lower half of the data.Suppose we have a set of numbers {3, 6, 7, 9, 10, 12, 14}. To find the median, we first arrange the numbers in order from smallest to largest: {3, 6, 7, 9, 10, 12, 14}. The middle value is 9, so the median of this set is 9.\n",
    "\n",
    "Mode: The mode is the value that occurs most frequently in a set of data. It is the number that appears with the greatest frequency.Suppose we have a set of numbers {2, 4, 6, 4, 8, 10, 4}. To find the mode, we look for the value that occurs most frequently. In this set, the value 4 appears three times, which is more than any other value. So the mode of this set is 4."
   ]
  },
  {
   "cell_type": "markdown",
   "id": "4d2492b5",
   "metadata": {},
   "source": [
    "# # Q2. What is the difference between the mean, median, and mode? How are they used to measure the central tendency of a dataset?"
   ]
  },
  {
   "cell_type": "markdown",
   "id": "863491fe",
   "metadata": {},
   "source": [
    "The mean, median, and mode are all measures of central tendency in a dataset. Each of them provides information about where the data points tend to cluster.\n",
    "\n",
    "The mean is the arithmetic average of all the data points in a dataset. It is calculated by summing all the values and dividing by the number of values. The mean is sensitive to outliers, which means that if there are extreme values in the dataset, they can greatly affect the value of the mean.\n",
    "\n",
    "The median is the middle value in a dataset when the data points are ordered from smallest to largest. If there is an even number of data points, the median is calculated as the average of the two middle values. The median is less sensitive to outliers than the mean, because it only depends on the values that are closer to the center of the dataset.\n",
    "\n",
    "The mode is the most common value in a dataset. It is the value that appears most frequently. The mode can be used to describe the typical value in a dataset, especially when the data is discrete and has a clear mode.\n",
    "\n",
    "All three measures of central tendency are useful for different types of data and situations. The mean is often used for continuous data that is normally distributed, while the median is used for skewed data or when there are outliers. The mode is useful for data with a clear peak or cluster of values.\n",
    "\n",
    "In summary, the mean, median, and mode are all measures of central tendency that provide different information about the dataset. The choice of which measure to use depends on the type of data and the context of the analysis."
   ]
  },
  {
   "cell_type": "markdown",
   "id": "a82a0361",
   "metadata": {},
   "source": [
    "# Q3. Measure the three measures of central tendency for the given height data:\n",
    "\n",
    "#  [178,177,176,177,178.2,178,175,179,180,175,178.9,176.2,177,172.5,178,176.5]"
   ]
  },
  {
   "cell_type": "code",
   "execution_count": 1,
   "id": "919f2e13",
   "metadata": {},
   "outputs": [
    {
     "name": "stdout",
     "output_type": "stream",
     "text": [
      "Mean:  177.01875\n",
      "Median:  177.0\n",
      "Mode:  178\n"
     ]
    }
   ],
   "source": [
    "import statistics\n",
    "\n",
    "data = [178, 177, 176, 177, 178.2, 178, 175, 179, 180, 175, 178.9, 176.2, 177, 172.5, 178, 176.5]\n",
    "\n",
    "# Calculate the mean\n",
    "mean = statistics.mean(data)\n",
    "print(\"Mean: \", mean)\n",
    "\n",
    "# Calculate the median\n",
    "median = statistics.median(data)\n",
    "print(\"Median: \", median)\n",
    "\n",
    "# Calculate the mode\n",
    "mode = statistics.mode(data)\n",
    "print(\"Mode: \", mode)"
   ]
  },
  {
   "cell_type": "markdown",
   "id": "aff145b1",
   "metadata": {},
   "source": [
    "# Q4. Find the standard deviation for the given data:\n",
    "\n",
    "# [178,177,176,177,178.2,178,175,179,180,175,178.9,176.2,177,172.5,178,176.5]"
   ]
  },
  {
   "cell_type": "code",
   "execution_count": 5,
   "id": "7212ccac",
   "metadata": {},
   "outputs": [
    {
     "data": {
      "text/plain": [
       "1.8472389305844188"
      ]
     },
     "execution_count": 5,
     "metadata": {},
     "output_type": "execute_result"
    }
   ],
   "source": [
    "import statistics\n",
    "data = [178,177,176,177,178.2,178,175,179,180,175,178.9,176.2,177,172.5,178,176.5]\n",
    "std = statistics.stdev(data)\n",
    "std"
   ]
  },
  {
   "cell_type": "markdown",
   "id": "5f2f406a",
   "metadata": {},
   "source": [
    "# Q5. How are measures of dispersion such as range, variance, and standard deviation used to describe\n",
    "# the spread of a dataset? Provide an exampl"
   ]
  },
  {
   "cell_type": "markdown",
   "id": "f226cc15",
   "metadata": {},
   "source": [
    "Measures of dispersion such as range, variance, and standard deviation are used to describe the spread of a dataset by quantifying how much the individual data points deviate from the central tendency of the dataset.\n",
    "\n",
    "Range: The range is the difference between the maximum and minimum values in a dataset. It provides a quick way to get an idea of how spread out the data is. However, it is sensitive to outliers and may not provide a reliable measure of dispersion in datasets with extreme values.\n",
    "\n",
    "Variance: The variance is the average of the squared differences between each data point and the mean of the dataset. It measures how much the data is spread out from the mean. A higher variance indicates that the data is more spread out, while a lower variance indicates that the data is more tightly clustered around the mean.\n",
    "\n",
    "Standard deviation: The standard deviation is the square root of the variance. It provides a more intuitive measure of the spread of the data, as it is in the same units as the data. A larger standard deviation indicates that the data is more spread out, while a smaller standard deviation indicates that the data is more tightly clustered around the mean.\n",
    "\n",
    "For example:"
   ]
  },
  {
   "cell_type": "code",
   "execution_count": 8,
   "id": "81e37538",
   "metadata": {},
   "outputs": [
    {
     "name": "stdout",
     "output_type": "stream",
     "text": [
      "Range:  20\n",
      "Variance:  50.0\n",
      "Standard deviation:  7.0710678118654755\n"
     ]
    }
   ],
   "source": [
    "import statistics\n",
    "\n",
    "data = [5, 10, 15, 20, 25]\n",
    "\n",
    "# Calculate the range\n",
    "range_data = max(data) - min(data)\n",
    "print(\"Range: \", range_data)\n",
    "\n",
    "# Calculate the variance\n",
    "mean = statistics.mean(data)\n",
    "variance = sum((x - mean) ** 2 for x in data) / len(data)\n",
    "print(\"Variance: \", variance)\n",
    "\n",
    "# Calculate the standard deviation\n",
    "stdev = variance ** 0.5\n",
    "print(\"Standard deviation: \", stdev)"
   ]
  },
  {
   "cell_type": "markdown",
   "id": "c6b6ee38",
   "metadata": {},
   "source": [
    "# Q6. What is a Venn diagram?"
   ]
  },
  {
   "cell_type": "markdown",
   "id": "6c591f8a",
   "metadata": {},
   "source": [
    "\n",
    "A Venn diagram is a graphical representation of the relationships between sets. It consists of overlapping circles or other closed shapes, with each shape representing a set and the overlapping region representing the intersection of those sets. The Venn diagram is named after the British logician John Venn, who introduced the concept in 1880.\n",
    "\n",
    "Venn diagrams are commonly used in mathematics, statistics, logic, and other fields to visualize the relationships between sets and to illustrate concepts such as union, intersection, and complement. They are particularly useful for representing complex sets with multiple overlapping subsets, and for visualizing the results of set operations such as union, intersection, and difference.\n",
    "\n",
    "Here's an example of a Venn diagram with three sets:"
   ]
  },
  {
   "attachments": {
    "image.png": {
     "image/png": "[encoded data removed]"
    }
   },
   "cell_type": "markdown",
   "id": "5ce6ed2c",
   "metadata": {},
   "source": [
    "![image.png](attachment:image.png)"
   ]
  },
  {
   "cell_type": "markdown",
   "id": "0a24df8b",
   "metadata": {},
   "source": [
    "# Q7. For the two given sets A = (2,3,4,5,6,7) & B = (0,2,6,8,10). Find:\n",
    "\n",
    "# (i)A ⋂ B\n",
    "\n",
    "# (ii)A ⋃ B"
   ]
  },
  {
   "cell_type": "code",
   "execution_count": 10,
   "id": "d6b919db",
   "metadata": {},
   "outputs": [
    {
     "name": "stdout",
     "output_type": "stream",
     "text": [
      "The intersection of sets A and B is: {2, 6}\n",
      "The union of sets A and B is: {0, 2, 3, 4, 5, 6, 7, 8, 10}\n"
     ]
    }
   ],
   "source": [
    "# Find the intersection of sets A and B\n",
    "A = {2, 3, 4, 5, 6, 7}\n",
    "B = {0, 2, 6, 8, 10}\n",
    "intersection = A.intersection(B)\n",
    "print(\"The intersection of sets A and B is:\", intersection)\n",
    "\n",
    "# Find the union of sets A and B\n",
    "union = A.union(B)\n",
    "print(\"The union of sets A and B is:\", union)"
   ]
  },
  {
   "cell_type": "markdown",
   "id": "0b75f636",
   "metadata": {},
   "source": [
    "# Q8. What do you understand about skewness in data?"
   ]
  },
  {
   "cell_type": "markdown",
   "id": "9fff7b5c",
   "metadata": {},
   "source": [
    "Skewness is a measure of the asymmetry of a distribution of data. In other words, it describes how much a dataset deviates from a normal or symmetric distribution.\n",
    "\n",
    "A distribution is considered to be skewed if it is not symmetrical, meaning that the two sides of the distribution are not mirror images of each other. If the tail of the distribution is longer on one side than the other, the distribution is said to be skewed in the direction of the longer tail.\n",
    "\n",
    "There are two types of skewness:\n",
    "\n",
    "Positive skewness: If the tail of the distribution is longer on the positive side, it is considered to be positively skewed. The mean of the data is usually greater than the median in a positively skewed distribution.\n",
    "\n",
    "Negative skewness: If the tail of the distribution is longer on the negative side, it is considered to be negatively skewed. The mean of the data is usually less than the median in a negatively skewed distribution.\n",
    "\n",
    "Skewness is an important concept in statistics because it can affect the interpretation of the data and the validity of some statistical tests. For example, if the data is skewed, the mean may not be an appropriate measure of central tendency, and the use of non-parametric tests may be more appropriate than parametric tests."
   ]
  },
  {
   "cell_type": "markdown",
   "id": "909e0bb9",
   "metadata": {},
   "source": [
    "# Q9. If a data is right skewed then what will be the position of median with respect to mean?"
   ]
  },
  {
   "cell_type": "markdown",
   "id": "071da3ec",
   "metadata": {},
   "source": [
    "If a data is right-skewed, the median will be less than the mean.\n",
    "\n",
    "This is because in a right-skewed distribution, the tail of the distribution is longer on the right side, which means there are some extreme values on the right side that pull the mean in that direction. The median, on the other hand, is not affected by extreme values in the same way as the mean, so it remains closer to the center of the distribution. Therefore, the median is typically less than the mean in a right-skewed distribution"
   ]
  },
  {
   "cell_type": "markdown",
   "id": "1056c9ac",
   "metadata": {},
   "source": [
    "# Q10. Explain the difference between covariance and correlation. How are these measures used in\n",
    "# statistical analysis?"
   ]
  },
  {
   "cell_type": "markdown",
   "id": "3c20830e",
   "metadata": {},
   "source": [
    "Covariance and correlation are two statistical measures that describe the relationship between two variables.\n",
    "\n",
    "Covariance is a measure of how two variables vary together. Specifically, it measures the degree to which two variables tend to move in the same direction. A positive covariance means that when one variable goes up, the other tends to go up as well, and vice versa for a negative covariance. However, covariance does not give information about the strength of the relationship or the degree to which the variables are related.\n",
    "\n",
    "Correlation, on the other hand, is a standardized measure of the relationship between two variables. Unlike covariance, correlation takes values between -1 and 1, where -1 indicates a perfect negative correlation, 1 indicates a perfect positive correlation, and 0 indicates no correlation at all. Correlation measures not only the direction of the relationship but also its strength.\n",
    "\n",
    "In statistical analysis, covariance and correlation are used to analyze the relationship between two variables. Covariance is useful for understanding the direction of the relationship, but correlation is often preferred because it standardizes the measure and allows for comparisons between different datasets. Correlation is particularly useful in situations where we want to compare the relationship between two variables with different units of measurement or scales. For example, we can use correlation to measure the strength of the relationship between a person's height and weight, even though height and weight are measured in different units."
   ]
  },
  {
   "cell_type": "markdown",
   "id": "4fa0e473",
   "metadata": {},
   "source": [
    "# Q11. What is the formula for calculating the sample mean? Provide an example calculation for a datase"
   ]
  },
  {
   "cell_type": "markdown",
   "id": "f3ed8b57",
   "metadata": {},
   "source": [
    "# The formula for calculating the sample mean is:\n",
    "\n",
    "sample mean = (sum of all values in the sample) / (number of values in the sample)\n",
    "\n",
    "For example, suppose we have the following dataset of test scores for a class of 10 students:\n",
    "\n",
    "85, 76, 92, 88, 79, 91, 83, 80, 87, 90\n",
    "\n",
    "To calculate the sample mean, we first add up all the values in the sample:\n",
    "\n",
    "85 + 76 + 92 + 88 + 79 + 91 + 83 + 80 + 87 + 90 = 851\n",
    "\n",
    "Next, we divide the sum by the number of values in the sample, which in this case is 10:\n",
    "\n",
    "sample mean = 851 / 10 = 85.1\n",
    "\n",
    "Therefore, the sample mean for this dataset is 85.1."
   ]
  },
  {
   "cell_type": "code",
   "execution_count": 13,
   "id": "45d4b1dc",
   "metadata": {},
   "outputs": [
    {
     "name": "stdout",
     "output_type": "stream",
     "text": [
      "Sample mean = 85.1\n"
     ]
    }
   ],
   "source": [
    "# Define the dataset\n",
    "data = [85, 76, 92, 88, 79, 91, 83, 80, 87, 90]\n",
    "\n",
    "# Calculate the sample mean\n",
    "sample_mean = sum(data) / len(data)\n",
    "\n",
    "# Print the sample mean\n",
    "print(\"Sample mean =\", sample_mean)"
   ]
  },
  {
   "cell_type": "markdown",
   "id": "30bfc528",
   "metadata": {},
   "source": [
    "# Q12. For a normal distribution data what is the relationship between its measure of central tendency?"
   ]
  },
  {
   "cell_type": "markdown",
   "id": "a60e1999",
   "metadata": {},
   "source": [
    " For a normal distribution data, the mean, median, and mode are all equal. This is because a normal distribution is symmetric around its mean, and the mean is located at the peak of the distribution. Additionally, the tails of a normal distribution decay exponentially, which means that the mode and median are also located at the same point as the mean.\n",
    "\n",
    "Therefore, for a normal distribution data, the measures of central tendency - mean, median, and mode - are all equal and located at the center of the distribution."
   ]
  },
  {
   "cell_type": "markdown",
   "id": "31874f51",
   "metadata": {},
   "source": [
    "# Q13. How is covariance different from correlation?"
   ]
  },
  {
   "cell_type": "markdown",
   "id": "e1dd1dff",
   "metadata": {},
   "source": [
    "Covariance and correlation are both measures of the relationship between two variables. However, they differ in their interpretation and scale.\n",
    "\n",
    "Covariance measures the direction and strength of the linear relationship between two variables. It measures how much two variables change together, i.e., if one variable increases, does the other variable also increase, decrease or remain constant. Covariance can be positive, indicating a positive relationship where both variables tend to increase or decrease together, or negative, indicating a negative relationship where one variable increases as the other decreases. Covariance can be calculated using the formula:\n",
    "\n",
    "cov(X, Y) = (Σ(X - μX)(Y - μY)) / (n - 1) where X and Y are the two variables, μX and μY are their respective means, and n is the number of observations.\n",
    "\n",
    "The correlation coefficient, on the other hand, measures the strength and direction of the linear relationship between two variables, but it is scaled between -1 and 1, making it easier to interpret. Correlation can be positive, negative, or zero, indicating the strength and direction of the relationship. A correlation of +1 indicates a perfect positive relationship, a correlation of -1 indicates a perfect negative relationship, and a correlation of 0 indicates no relationship at all. Correlation can be calculated using the formula:\n",
    "\n",
    "r = cov(X, Y) / (sX * sY) where r is the correlation coefficient, cov(X, Y) is the covariance between X and Y, and sX and sY are the standard deviations of X and Y, respectively.\n",
    "\n",
    "Therefore, the main difference between covariance and correlation is that covariance is not scaled, and its value depends on the units of measurement of the two variables. In contrast, correlation is scaled and ranges between -1 and 1, making it easier to interpret and compare across different datasets."
   ]
  },
  {
   "cell_type": "markdown",
   "id": "ece95038",
   "metadata": {},
   "source": [
    "# Q14. How do outliers affect measures of central tendency and dispersion? Provide an example."
   ]
  },
  {
   "cell_type": "markdown",
   "id": "0bda326c",
   "metadata": {},
   "source": [
    "Outliers can significantly affect the measures of central tendency and dispersion in a dataset. An outlier is an observation that falls significantly outside the range of the other observations in the dataset. Outliers can be caused by measurement errors, data entry errors, or simply by chance.\n",
    "\n",
    "The presence of outliers can distort the measures of central tendency, such as the mean and the median, as they can pull the average value towards their direction. For example, in a dataset of salaries where most of the salaries are in the range of Rs.30,000 to Rs.80,000 per year, an outlier salary of Rs.500,000 per year will significantly increase the mean salary value, making it higher than the typical salary in the dataset. In contrast, the median salary will be less affected by the outlier, as it only considers the middle value in the dataset.\n",
    "\n",
    "Outliers can also affect the measures of dispersion, such as the range, variance, and standard deviation, as they can increase or decrease the spread of the dataset. For example, if we consider the same salary dataset as above, an outlier salary of Rs.500,000 per year will increase the range, variance, and standard deviation, making the spread of the dataset appear larger than it actually is.\n",
    "\n",
    "In summary, outliers can have a significant impact on the measures of central tendency and dispersion in a dataset. It is important to identify and handle outliers appropriately to avoid drawing incorrect conclusions from the data.\n",
    "\n",
    "Here's an example in Python demonstrating how outliers can affect measures of central tendency and dispersion:"
   ]
  },
  {
   "cell_type": "code",
   "execution_count": 14,
   "id": "20bc9006",
   "metadata": {},
   "outputs": [
    {
     "name": "stdout",
     "output_type": "stream",
     "text": [
      "Data: [ 10  20  30  40  50 500]\n",
      "Mean: 108.33333333333333\n",
      "Median: 35.0\n",
      "Range: 490\n",
      "Variance: 30847.222222222223\n",
      "Standard deviation: 175.6337730114064\n"
     ]
    }
   ],
   "source": [
    "import numpy as np\n",
    "\n",
    "# Create a dataset with outliers\n",
    "data = np.array([10, 20, 30, 40, 50, 500])\n",
    "\n",
    "# Calculate measures of central tendency\n",
    "mean = np.mean(data)\n",
    "median = np.median(data)\n",
    "\n",
    "# Calculate measures of dispersion\n",
    "range = np.max(data) - np.min(data)\n",
    "variance = np.var(data)\n",
    "std_deviation = np.std(data)\n",
    "\n",
    "# Print results\n",
    "print(\"Data:\", data)\n",
    "print(\"Mean:\", mean)\n",
    "print(\"Median:\", median)\n",
    "print(\"Range:\", range)\n",
    "print(\"Variance:\", variance)\n",
    "print(\"Standard deviation:\", std_deviation)"
   ]
  },
  {
   "cell_type": "markdown",
   "id": "e141f86b",
   "metadata": {},
   "source": [
    "In this example, the dataset contains an outlier value of 500, which is much larger than the other values in the dataset.\n",
    "\n",
    "As we can see, the outlier has a significant impact on the mean, which is much higher than the typical values in the dataset. The median, on the other hand, is less affected by the outlier and is closer to the center of the dataset. The range, variance, and standard deviation are also much larger than they would be if the outlier was not present, indicating that the dataset has a larger spread."
   ]
  },
  {
   "cell_type": "code",
   "execution_count": null,
   "id": "c2967884",
   "metadata": {},
   "outputs": [],
   "source": []
  }
 ],
 "metadata": {
  "kernelspec": {
   "display_name": "Python 3 (ipykernel)",
   "language": "python",
   "name": "python3"
  },
  "language_info": {
   "codemirror_mode": {
    "name": "ipython",
    "version": 3
   },
   "file_extension": ".py",
   "mimetype": "text/x-python",
   "name": "python",
   "nbconvert_exporter": "python",
   "pygments_lexer": "ipython3",
   "version": "3.9.12"
  }
 },
 "nbformat": 4,
 "nbformat_minor": 5
}
