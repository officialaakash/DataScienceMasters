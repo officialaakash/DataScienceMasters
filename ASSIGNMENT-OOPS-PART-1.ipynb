{
 "cells": [
  {
   "cell_type": "markdown",
   "id": "c9244cf6",
   "metadata": {},
   "source": [
    "# Q1. Explain Class and Object with respect to Object-Oriented Programming. Give a suitable example."
   ]
  },
  {
   "cell_type": "markdown",
   "id": "16d33b45",
   "metadata": {},
   "source": [
    "Python is a versatile programming language that supports various programming styles, including object-oriented programming (OOP) through the use of objects and classes.\n",
    "\n",
    "An object is any entity that has attributes and behaviors. For example, a parrot is an object. It has\n",
    "\n",
    "attributes - name, age, color, etc.\n",
    "behavior - dancing, singing, etc.\n",
    "Similarly, a class is a blueprint for that object."
   ]
  },
  {
   "cell_type": "code",
   "execution_count": 1,
   "id": "8d388d95",
   "metadata": {},
   "outputs": [
    {
     "name": "stdout",
     "output_type": "stream",
     "text": [
      "Blu is 10 years old\n",
      "Woo is 15 years old\n"
     ]
    }
   ],
   "source": [
    "class Parrot:\n",
    "\n",
    "    # class attribute\n",
    "    name = \"\"\n",
    "    age = 0\n",
    "\n",
    "# create parrot1 object\n",
    "parrot1 = Parrot()\n",
    "parrot1.name = \"Blu\"\n",
    "parrot1.age = 10\n",
    "\n",
    "# create another object parrot2\n",
    "parrot2 = Parrot()\n",
    "parrot2.name = \"Woo\"\n",
    "parrot2.age = 15\n",
    "\n",
    "# access attributes\n",
    "print(f\"{parrot1.name} is {parrot1.age} years old\")\n",
    "print(f\"{parrot2.name} is {parrot2.age} years old\")"
   ]
  },
  {
   "cell_type": "markdown",
   "id": "64dbcd8f",
   "metadata": {},
   "source": [
    "In the above example, we created a class with the name Parrot with two attributes: name and age.\n",
    "\n",
    "Then, we create instances of the Parrot class. Here, parrot1 and parrot2 are references (value) to our new objects.\n",
    "\n",
    "We then accessed and assigned different values to the instance attributes using the objects name and the . notation"
   ]
  },
  {
   "cell_type": "markdown",
   "id": "74795706",
   "metadata": {},
   "source": [
    "# Q2. Name the four pillars of OOPs."
   ]
  },
  {
   "cell_type": "markdown",
   "id": "8d16319f",
   "metadata": {},
   "source": [
    "The four pillars are Inheritance, Polymorphism, Encapsulation and Abstraction"
   ]
  },
  {
   "cell_type": "markdown",
   "id": "2cf7bf82",
   "metadata": {},
   "source": [
    "# Q3. Explain why the __init__() function is used. Give a suitable example. "
   ]
  },
  {
   "cell_type": "code",
   "execution_count": null,
   "id": "fd4e8ec5",
   "metadata": {},
   "outputs": [],
   "source": [
    "All classes have a function called __init__(), which is always executed when the class is being initiated.\n",
    "\n",
    "We use the __init__() function to assign values to object properties, or other operations that are necessary to do when the object is being created:"
   ]
  },
  {
   "cell_type": "code",
   "execution_count": 2,
   "id": "f84c8ac0",
   "metadata": {},
   "outputs": [
    {
     "name": "stdout",
     "output_type": "stream",
     "text": [
      "John\n",
      "36\n"
     ]
    }
   ],
   "source": [
    "class Person:                #Example\n",
    "  def __init__(self, name, age):\n",
    "    self.name = name\n",
    "    self.age = age\n",
    "\n",
    "p1 = Person(\"John\", 36)\n",
    "\n",
    "print(p1.name)\n",
    "print(p1.age)"
   ]
  },
  {
   "cell_type": "markdown",
   "id": "dda226b2",
   "metadata": {},
   "source": [
    "# Q4. Why self is used in OOPs?"
   ]
  },
  {
   "cell_type": "markdown",
   "id": "ff12865c",
   "metadata": {},
   "source": [
    "The self is used to represent the instance of the class. With this keyword, you can access the attributes and methods of the class in python. It binds the attributes with the given arguments. The reason why we use self is that Python does not use the ‘@’ syntax to refer to instance attributes."
   ]
  },
  {
   "cell_type": "markdown",
   "id": "d0b5e3b1",
   "metadata": {},
   "source": [
    "# Q5. What is inheritance? Give an example for each type of inheritance."
   ]
  },
  {
   "cell_type": "markdown",
   "id": "0fa3f6bf",
   "metadata": {},
   "source": [
    " Inheritance is a process of obtaining properties and characteristics(variables and methods) of another class. In this hierarchical order, the class which inherits another class is called subclass or child class, and the other class is the parent class.\n",
    "\n",
    "Inheritance is categorized based on the hierarchy followed and the number of parent classes and subclasses involved.\n",
    "\n",
    "There are five types of inheritances:\n",
    "\n",
    "Single Inheritance\n",
    "Multiple Inheritance\n",
    "Multilevel Inheritance\n",
    "Hierarchical Inheritance\n",
    "Hybrid Inheritance\n",
    "\n",
    "#Single Inheritance\n",
    "This type of inheritance enables a subclass or derived class to inherit properties and characteristics of the parent class, this avoids duplication of code and improves code reusability.\n",
    "\n",
    "\n",
    "#Multiple Inheritance\n",
    "This inheritance enables a child class to inherit from more than one parent class. This type of inheritance is not supported by java classes, but python does support this kind of inheritance. It has a massive advantage if we have a requirement of gathering multiple characteristics from different classes.\n"
   ]
  }
 ],
 "metadata": {
  "kernelspec": {
   "display_name": "Python 3 (ipykernel)",
   "language": "python",
   "name": "python3"
  },
  "language_info": {
   "codemirror_mode": {
    "name": "ipython",
    "version": 3
   },
   "file_extension": ".py",
   "mimetype": "text/x-python",
   "name": "python",
   "nbconvert_exporter": "python",
   "pygments_lexer": "ipython3",
   "version": "3.9.12"
  }
 },
 "nbformat": 4,
 "nbformat_minor": 5
}
