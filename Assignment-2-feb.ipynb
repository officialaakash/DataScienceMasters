{
 "cells": [
  {
   "cell_type": "code",
   "execution_count": 1,
   "id": "dc736e14",
   "metadata": {},
   "outputs": [],
   "source": [
    "import math\n",
    "import numpy as np"
   ]
  },
  {
   "cell_type": "markdown",
   "id": "a6ac221e",
   "metadata": {},
   "source": [
    "# Q1.  Explain with an example each when to use a for loop and a while loop.\n"
   ]
  },
  {
   "cell_type": "markdown",
   "id": "064c56ee",
   "metadata": {},
   "source": [
    "The for loop is used when we already know the number of iterations, which means when we know how many times a statement has to be executed. That is why we have to specify the ending point in the for loop initialization.\n",
    "\n",
    "When we need to end the loop on a condition other than the number of times, we use a while loop. In this case, it is not necessary to know the condition beforehand. That is why we can give a boolean expression in the initialization of the loop.\n"
   ]
  },
  {
   "cell_type": "code",
   "execution_count": 2,
   "id": "5257299b",
   "metadata": {},
   "outputs": [
    {
     "name": "stdout",
     "output_type": "stream",
     "text": [
      "\n",
      "*\n",
      "**\n",
      "***\n"
     ]
    }
   ],
   "source": [
    "for  i in range(4):   #for loop example\n",
    "    print(\"*\"*i)"
   ]
  },
  {
   "cell_type": "code",
   "execution_count": 3,
   "id": "f4e9519c",
   "metadata": {},
   "outputs": [
    {
     "name": "stdout",
     "output_type": "stream",
     "text": [
      "+\n",
      "++\n",
      "+++\n"
     ]
    }
   ],
   "source": [
    "i = 1        #while loop example\n",
    "while i <=3:\n",
    "    print(\"+\"*i)\n",
    "    i+=1"
   ]
  },
  {
   "cell_type": "markdown",
   "id": "02ab5aa1",
   "metadata": {},
   "source": [
    "# Q2.  Write a python program to print the sum and product of the first 10 natural numbers using for  and while loop."
   ]
  },
  {
   "cell_type": "markdown",
   "id": "fa978527",
   "metadata": {},
   "source": [
    "Sum of the first 10 natural number."
   ]
  },
  {
   "cell_type": "code",
   "execution_count": 4,
   "id": "7db91daf",
   "metadata": {},
   "outputs": [
    {
     "name": "stdout",
     "output_type": "stream",
     "text": [
      "55\n"
     ]
    }
   ],
   "source": [
    "sum=0\n",
    "for i in range(1,11):\n",
    "    sum+=i\n",
    "print(sum)"
   ]
  },
  {
   "cell_type": "markdown",
   "id": "7eeaad5c",
   "metadata": {},
   "source": [
    "Product of first 10 natural number."
   ]
  },
  {
   "cell_type": "code",
   "execution_count": 5,
   "id": "3a024e28",
   "metadata": {},
   "outputs": [
    {
     "name": "stdout",
     "output_type": "stream",
     "text": [
      "3628800\n"
     ]
    }
   ],
   "source": [
    "product = 1\n",
    "for i in range(1,11):\n",
    "    product*=i\n",
    "print(product)"
   ]
  },
  {
   "cell_type": "markdown",
   "id": "cc90040f",
   "metadata": {},
   "source": [
    "# Q3. Create a python program to compute the electricity bill for a household. \n",
    "The per-unit charges in rupees are as follows: For the first 100 units, the user will be charged Rs. 4.5 per  unit, for the next 100 units, the user will be charged Rs. 6 per unit, and for the next 100 units, the user will  be charged Rs. 10 per unit, After 300 units and above the user will be charged Rs. 20 per unit. \n"
   ]
  },
  {
   "cell_type": "code",
   "execution_count": null,
   "id": "de712922",
   "metadata": {},
   "outputs": [],
   "source": [
    "n = int(input('Enter you Total Unit :'))\n",
    "bill = 0\n",
    "for i in range(1,n+1):\n",
    "    if i <=100:\n",
    "        bill+=4.5\n",
    "    elif 100<i<=200:\n",
    "        bill+=6\n",
    "    elif 200<i<=300:\n",
    "        bill+=10\n",
    "    elif i>300:\n",
    "        bill+=20\n",
    "print(\"The Total bill is {} Rs\".format(bill))"
   ]
  },
  {
   "cell_type": "markdown",
   "id": "3629d4f9",
   "metadata": {},
   "source": [
    "# Q4. Create a list of numbers from 1 to 100. Use for loop and while loop to calculate the cube of each  number and if the cube of that number is divisible by 4 or 5 then append that number in a list and print  that list. \n"
   ]
  },
  {
   "cell_type": "code",
   "execution_count": null,
   "id": "77185ce3",
   "metadata": {},
   "outputs": [],
   "source": [
    "list1 = []\n",
    "s = set()\n",
    "for i in range(1,101):\n",
    "    list1.append(i)\n",
    "\n",
    "for i in range(len(list1)):\n",
    "    i = i**3\n",
    "    if i%4==0 or i%5==0:\n",
    "        s.add(int(math.pow(i,1/3)))\n",
    "print(list(s))"
   ]
  },
  {
   "cell_type": "markdown",
   "id": "6c19a540",
   "metadata": {},
   "source": [
    "# Q5.Write a program to filter count vowels in the below-given string. string = \"I want to become a data scientist\" "
   ]
  },
  {
   "cell_type": "code",
   "execution_count": 6,
   "id": "7e031da2",
   "metadata": {},
   "outputs": [
    {
     "name": "stdout",
     "output_type": "stream",
     "text": [
      "The total no of vowels in given string is : 12\n"
     ]
    }
   ],
   "source": [
    "s= \"I want to become a data scientist\"\n",
    "l = ['a','e','i','o','u','A','E','I','O','U']\n",
    "count = 0\n",
    "for i in s:\n",
    "    if i in l:\n",
    "        count+=1\n",
    "print(\"The total no of vowels in given string is :\",count)"
   ]
  },
  {
   "cell_type": "code",
   "execution_count": null,
   "id": "84ec99b0",
   "metadata": {},
   "outputs": [],
   "source": []
  },
  {
   "cell_type": "code",
   "execution_count": null,
   "id": "b84d71ca",
   "metadata": {},
   "outputs": [],
   "source": []
  }
 ],
 "metadata": {
  "kernelspec": {
   "display_name": "Python 3 (ipykernel)",
   "language": "python",
   "name": "python3"
  },
  "language_info": {
   "codemirror_mode": {
    "name": "ipython",
    "version": 3
   },
   "file_extension": ".py",
   "mimetype": "text/x-python",
   "name": "python",
   "nbconvert_exporter": "python",
   "pygments_lexer": "ipython3",
   "version": "3.9.12"
  }
 },
 "nbformat": 4,
 "nbformat_minor": 5
}
